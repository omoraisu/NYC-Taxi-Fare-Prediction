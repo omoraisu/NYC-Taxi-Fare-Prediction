{
 "cells": [
  {
   "cell_type": "markdown",
   "id": "652a7344-c92b-4675-b76e-d9c692573281",
   "metadata": {},
   "source": [
    "# Import libraries and dataset"
   ]
  },
  {
   "cell_type": "code",
   "execution_count": 69,
   "id": "4aa1e703-1f68-4588-a777-0f4ef6739fb7",
   "metadata": {},
   "outputs": [],
   "source": [
    "# computation libraries\n",
    "import os \n",
    "os.environ['TF_CPP_MIN_LOG_LEVEL'] = '2'\n",
    "\n",
    "import pandas as pd \n",
    "import numpy as np \n",
    "from scipy import stats\n",
    "\n",
    "# Make numpy printouts easier to read.\n",
    "np.set_printoptions(precision=3, suppress=True)"
   ]
  },
  {
   "cell_type": "code",
   "execution_count": 70,
   "id": "4a2f2603-90b7-4c1d-97ae-6b7468d491af",
   "metadata": {},
   "outputs": [],
   "source": [
    "# data visualization libraries\n",
    "import seaborn as sns\n",
    "import matplotlib.pyplot as plt\n",
    "%matplotlib inline"
   ]
  },
  {
   "cell_type": "code",
   "execution_count": 72,
   "id": "c5580283-88c5-45cd-96f6-61483ef7e1f9",
   "metadata": {},
   "outputs": [],
   "source": [
    "# tensorflow\n",
    "import tensorflow as tf\n",
    "\n",
    "from tensorflow import keras\n",
    "from tensorflow.keras import layers\n",
    "from keras import layers\n",
    "# from tensorflow.keras.layers.experimental import preprocessing"
   ]
  },
  {
   "cell_type": "code",
   "execution_count": 46,
   "id": "22760de2-d383-47ae-8802-4465aa7dabd2",
   "metadata": {},
   "outputs": [],
   "source": [
    "# import dataset\n",
    "path = \"C:\\\\Users\\\\daeni\\\\Desktop\\\\LOVE\\\\Academics\\\\JeepNi\\\\ML Model for Sale Prediction\\\\Dataset\\\\taxi_fare_combined.csv\""
   ]
  },
  {
   "cell_type": "code",
   "execution_count": 47,
   "id": "ac24f47e-88be-4e92-9a87-ff6002c9ad7c",
   "metadata": {},
   "outputs": [],
   "source": [
    "# convert csv to dataframe\n",
    "df = pd.read_csv(path)"
   ]
  },
  {
   "cell_type": "markdown",
   "id": "e1b2e7da-74de-4916-9247-cf808e0c17ab",
   "metadata": {},
   "source": [
    "# Data Exploration"
   ]
  },
  {
   "cell_type": "code",
   "execution_count": 49,
   "id": "5b0aee57-7d60-467a-a8f6-9c9d951da520",
   "metadata": {},
   "outputs": [
    {
     "data": {
      "text/html": [
       "<div>\n",
       "<style scoped>\n",
       "    .dataframe tbody tr th:only-of-type {\n",
       "        vertical-align: middle;\n",
       "    }\n",
       "\n",
       "    .dataframe tbody tr th {\n",
       "        vertical-align: top;\n",
       "    }\n",
       "\n",
       "    .dataframe thead th {\n",
       "        text-align: right;\n",
       "    }\n",
       "</style>\n",
       "<table border=\"1\" class=\"dataframe\">\n",
       "  <thead>\n",
       "    <tr style=\"text-align: right;\">\n",
       "      <th></th>\n",
       "      <th>trip_duration</th>\n",
       "      <th>distance_traveled</th>\n",
       "      <th>total_fare</th>\n",
       "    </tr>\n",
       "  </thead>\n",
       "  <tbody>\n",
       "    <tr>\n",
       "      <th>0</th>\n",
       "      <td>748.0</td>\n",
       "      <td>2.75</td>\n",
       "      <td>105.300</td>\n",
       "    </tr>\n",
       "    <tr>\n",
       "      <th>1</th>\n",
       "      <td>1187.0</td>\n",
       "      <td>3.43</td>\n",
       "      <td>142.200</td>\n",
       "    </tr>\n",
       "    <tr>\n",
       "      <th>2</th>\n",
       "      <td>730.0</td>\n",
       "      <td>3.12</td>\n",
       "      <td>97.875</td>\n",
       "    </tr>\n",
       "    <tr>\n",
       "      <th>3</th>\n",
       "      <td>671.0</td>\n",
       "      <td>5.63</td>\n",
       "      <td>99.750</td>\n",
       "    </tr>\n",
       "    <tr>\n",
       "      <th>4</th>\n",
       "      <td>329.0</td>\n",
       "      <td>2.09</td>\n",
       "      <td>70.200</td>\n",
       "    </tr>\n",
       "  </tbody>\n",
       "</table>\n",
       "</div>"
      ],
      "text/plain": [
       "   trip_duration  distance_traveled  total_fare\n",
       "0          748.0               2.75     105.300\n",
       "1         1187.0               3.43     142.200\n",
       "2          730.0               3.12      97.875\n",
       "3          671.0               5.63      99.750\n",
       "4          329.0               2.09      70.200"
      ]
     },
     "execution_count": 49,
     "metadata": {},
     "output_type": "execute_result"
    }
   ],
   "source": [
    "df.head()"
   ]
  },
  {
   "cell_type": "code",
   "execution_count": 50,
   "id": "3a76b704-d625-49c9-9c3e-5a2074062fad",
   "metadata": {},
   "outputs": [
    {
     "data": {
      "text/plain": [
       "Index(['trip_duration', 'distance_traveled', 'total_fare'], dtype='object')"
      ]
     },
     "execution_count": 50,
     "metadata": {},
     "output_type": "execute_result"
    }
   ],
   "source": [
    "df.columns"
   ]
  },
  {
   "cell_type": "code",
   "execution_count": 51,
   "id": "a940a599-3972-4a28-af37-558be5c56ce7",
   "metadata": {},
   "outputs": [
    {
     "data": {
      "text/plain": [
       "(208915, 3)"
      ]
     },
     "execution_count": 51,
     "metadata": {},
     "output_type": "execute_result"
    }
   ],
   "source": [
    "df.shape"
   ]
  },
  {
   "cell_type": "code",
   "execution_count": 53,
   "id": "adb31c9b-b8c8-4e7c-ad1f-12b84737d02b",
   "metadata": {},
   "outputs": [
    {
     "data": {
      "text/html": [
       "<div>\n",
       "<style scoped>\n",
       "    .dataframe tbody tr th:only-of-type {\n",
       "        vertical-align: middle;\n",
       "    }\n",
       "\n",
       "    .dataframe tbody tr th {\n",
       "        vertical-align: top;\n",
       "    }\n",
       "\n",
       "    .dataframe thead th {\n",
       "        text-align: right;\n",
       "    }\n",
       "</style>\n",
       "<table border=\"1\" class=\"dataframe\">\n",
       "  <thead>\n",
       "    <tr style=\"text-align: right;\">\n",
       "      <th></th>\n",
       "      <th>count</th>\n",
       "      <th>mean</th>\n",
       "      <th>std</th>\n",
       "      <th>min</th>\n",
       "      <th>25%</th>\n",
       "      <th>50%</th>\n",
       "      <th>75%</th>\n",
       "      <th>max</th>\n",
       "    </tr>\n",
       "  </thead>\n",
       "  <tbody>\n",
       "    <tr>\n",
       "      <th>trip_duration</th>\n",
       "      <td>208915.0</td>\n",
       "      <td>951.929158</td>\n",
       "      <td>2285.625050</td>\n",
       "      <td>1.000</td>\n",
       "      <td>445.00</td>\n",
       "      <td>705.0</td>\n",
       "      <td>1093.00</td>\n",
       "      <td>86387.00</td>\n",
       "    </tr>\n",
       "    <tr>\n",
       "      <th>distance_traveled</th>\n",
       "      <td>208915.0</td>\n",
       "      <td>4.775495</td>\n",
       "      <td>5.051035</td>\n",
       "      <td>0.020</td>\n",
       "      <td>1.95</td>\n",
       "      <td>3.2</td>\n",
       "      <td>5.73</td>\n",
       "      <td>315.25</td>\n",
       "    </tr>\n",
       "    <tr>\n",
       "      <th>total_fare</th>\n",
       "      <td>208915.0</td>\n",
       "      <td>127.852180</td>\n",
       "      <td>98.047952</td>\n",
       "      <td>1.125</td>\n",
       "      <td>70.20</td>\n",
       "      <td>101.7</td>\n",
       "      <td>152.25</td>\n",
       "      <td>3969.75</td>\n",
       "    </tr>\n",
       "  </tbody>\n",
       "</table>\n",
       "</div>"
      ],
      "text/plain": [
       "                      count        mean          std    min     25%    50%  \\\n",
       "trip_duration      208915.0  951.929158  2285.625050  1.000  445.00  705.0   \n",
       "distance_traveled  208915.0    4.775495     5.051035  0.020    1.95    3.2   \n",
       "total_fare         208915.0  127.852180    98.047952  1.125   70.20  101.7   \n",
       "\n",
       "                       75%       max  \n",
       "trip_duration      1093.00  86387.00  \n",
       "distance_traveled     5.73    315.25  \n",
       "total_fare          152.25   3969.75  "
      ]
     },
     "execution_count": 53,
     "metadata": {},
     "output_type": "execute_result"
    }
   ],
   "source": [
    "df.describe().T"
   ]
  },
  {
   "cell_type": "markdown",
   "id": "5dc58446-63d2-4d7c-acbb-34743609a9a3",
   "metadata": {},
   "source": [
    "# Data Wrangling"
   ]
  },
  {
   "cell_type": "code",
   "execution_count": 48,
   "id": "987b3323-1cf1-4614-94de-1856ca1ab6fe",
   "metadata": {},
   "outputs": [],
   "source": [
    "df = df.drop(\"Unnamed: 0\", axis=1)"
   ]
  },
  {
   "cell_type": "markdown",
   "id": "384b2570-5b52-49f5-b9ed-0a6c6c38b9f7",
   "metadata": {},
   "source": [
    "# Dataset Splitting"
   ]
  },
  {
   "cell_type": "code",
   "execution_count": 59,
   "id": "3870cb8f-35be-415d-b53e-19aca8c5c30c",
   "metadata": {},
   "outputs": [],
   "source": [
    "train_dataset = df.sample(frac=0.8, random_state=0)\n",
    "test_dataset = df.drop(train_data.index)"
   ]
  },
  {
   "cell_type": "code",
   "execution_count": 60,
   "id": "92debcd6-1427-4238-833b-cf2932820ec3",
   "metadata": {},
   "outputs": [
    {
     "name": "stdout",
     "output_type": "stream",
     "text": [
      "Dataframe Shape: (208915, 3)\n",
      "Train Dataset Frame: (167132, 3)\n",
      "Test Dataset Frame: (41783, 3)\n",
      "\n"
     ]
    }
   ],
   "source": [
    "print(f\"Dataframe Shape: {df.shape}\\nTrain Dataset Frame: {train_data.shape}\\nTest Dataset Frame: {test_data.shape}\\n\")"
   ]
  },
  {
   "cell_type": "code",
   "execution_count": 62,
   "id": "680310a0-fc88-4710-b35a-625c296ebbff",
   "metadata": {},
   "outputs": [],
   "source": [
    "# Split features from labels \n",
    "train_features = train_dataset.copy()\n",
    "train_target = train_features.pop('total_fare')\n",
    "\n",
    "test_features = test_dataset.copy()\n",
    "test_target = test_features.pop('total_fare')"
   ]
  },
  {
   "cell_type": "markdown",
   "id": "9de141ee-f317-46c9-b205-04ebaeca5e63",
   "metadata": {},
   "source": [
    "# Normalizing Data"
   ]
  },
  {
   "cell_type": "code",
   "execution_count": 66,
   "id": "6fd6d78a-9c06-4fdb-a89b-d6fbcb4a1123",
   "metadata": {},
   "outputs": [
    {
     "name": "stdout",
     "output_type": "stream",
     "text": [
      "                         mean          std\n",
      "trip_duration      952.023652  2297.948984\n",
      "distance_traveled    4.767948     5.049129\n",
      "total_fare         127.808896    98.479246\n"
     ]
    }
   ],
   "source": [
    "# Normalize\n",
    "print(train_dataset.describe().transpose()[['mean', 'std']])"
   ]
  },
  {
   "cell_type": "code",
   "execution_count": 92,
   "id": "433388a2-fbfe-4567-a102-1da9e40bda50",
   "metadata": {},
   "outputs": [
    {
     "name": "stdout",
     "output_type": "stream",
     "text": [
      "Features mean: 1.5520631446719335e-09\n",
      "Features std: 1.0\n"
     ]
    }
   ],
   "source": [
    "# Normalization \n",
    "layer = layers.Normalization()\n",
    "\n",
    "# adapt to data\n",
    "layer.adapt(np.array(train_features))\n",
    "\n",
    "print(f\"Features mean: {normalized_data.numpy().mean()}\")\n",
    "print(f\"Features std: {normalized_data.numpy().std()}\")"
   ]
  },
  {
   "cell_type": "code",
   "execution_count": 91,
   "id": "e8641d21-c7bf-4785-969f-4cfc7dcb252d",
   "metadata": {},
   "outputs": [
    {
     "name": "stdout",
     "output_type": "stream",
     "text": [
      "First example: [[912.     7.39]]\n",
      "Normalized: [[-0.017  0.519]]\n"
     ]
    }
   ],
   "source": [
    "first = np.array(train_features[:1])\n",
    "print('First example:', first)\n",
    "print('Normalized:', layer(first).numpy())"
   ]
  },
  {
   "cell_type": "markdown",
   "id": "6021fda3-680b-40b2-8508-a74083c4eb3a",
   "metadata": {},
   "source": [
    "# Model Building"
   ]
  },
  {
   "cell_type": "code",
   "execution_count": 125,
   "id": "e60bdbcd-a334-4033-ab9f-11fde54a2dd7",
   "metadata": {},
   "outputs": [
    {
     "name": "stdout",
     "output_type": "stream",
     "text": [
      "(167132,) (167132, 2)\n"
     ]
    }
   ],
   "source": [
    "feature = 'distance_traveled'\n",
    "single_feature = np.array(train_features[feature])\n",
    "print(single_feature.shape, train_features.shape)\n",
    "\n",
    "single_feature = single_feature.reshape(-1, 1)  # Assuming you want each sample to have one feature"
   ]
  },
  {
   "cell_type": "code",
   "execution_count": 126,
   "id": "87bf1a5a-51c1-44b1-8c6e-1dee1cb469e9",
   "metadata": {},
   "outputs": [],
   "source": [
    "# normalization \n",
    "single_feature_layer = layers.Normalization()\n",
    "\n",
    "# adapt to data \n",
    "single_feature_layer.adapt(single_feature)"
   ]
  },
  {
   "cell_type": "code",
   "execution_count": 127,
   "id": "8a352fd9-19f5-4444-8d8e-53b78b887242",
   "metadata": {},
   "outputs": [],
   "source": [
    "# sequential model \n",
    "single_feature_model =  keras.models.Sequential([\n",
    "    single_feature_layer,\n",
    "    layers.Dense(units=1) # linear model\n",
    "])"
   ]
  },
  {
   "cell_type": "code",
   "execution_count": 128,
   "id": "ab9e1aba-6a75-47d2-8fca-619497004971",
   "metadata": {},
   "outputs": [
    {
     "data": {
      "text/html": [
       "<pre style=\"white-space:pre;overflow-x:auto;line-height:normal;font-family:Menlo,'DejaVu Sans Mono',consolas,'Courier New',monospace\"><span style=\"font-weight: bold\">Model: \"sequential_2\"</span>\n",
       "</pre>\n"
      ],
      "text/plain": [
       "\u001b[1mModel: \"sequential_2\"\u001b[0m\n"
      ]
     },
     "metadata": {},
     "output_type": "display_data"
    },
    {
     "data": {
      "text/html": [
       "<pre style=\"white-space:pre;overflow-x:auto;line-height:normal;font-family:Menlo,'DejaVu Sans Mono',consolas,'Courier New',monospace\">┏━━━━━━━━━━━━━━━━━━━━━━━━━━━━━━━━━┳━━━━━━━━━━━━━━━━━━━━━━━━┳━━━━━━━━━━━━━━━┓\n",
       "┃<span style=\"font-weight: bold\"> Layer (type)                    </span>┃<span style=\"font-weight: bold\"> Output Shape           </span>┃<span style=\"font-weight: bold\">       Param # </span>┃\n",
       "┡━━━━━━━━━━━━━━━━━━━━━━━━━━━━━━━━━╇━━━━━━━━━━━━━━━━━━━━━━━━╇━━━━━━━━━━━━━━━┩\n",
       "│ normalization_14                │ ?                      │             <span style=\"color: #00af00; text-decoration-color: #00af00\">3</span> │\n",
       "│ (<span style=\"color: #0087ff; text-decoration-color: #0087ff\">Normalization</span>)                 │                        │               │\n",
       "├─────────────────────────────────┼────────────────────────┼───────────────┤\n",
       "│ dense_2 (<span style=\"color: #0087ff; text-decoration-color: #0087ff\">Dense</span>)                 │ ?                      │   <span style=\"color: #00af00; text-decoration-color: #00af00\">0</span> (unbuilt) │\n",
       "└─────────────────────────────────┴────────────────────────┴───────────────┘\n",
       "</pre>\n"
      ],
      "text/plain": [
       "┏━━━━━━━━━━━━━━━━━━━━━━━━━━━━━━━━━┳━━━━━━━━━━━━━━━━━━━━━━━━┳━━━━━━━━━━━━━━━┓\n",
       "┃\u001b[1m \u001b[0m\u001b[1mLayer (type)                   \u001b[0m\u001b[1m \u001b[0m┃\u001b[1m \u001b[0m\u001b[1mOutput Shape          \u001b[0m\u001b[1m \u001b[0m┃\u001b[1m \u001b[0m\u001b[1m      Param #\u001b[0m\u001b[1m \u001b[0m┃\n",
       "┡━━━━━━━━━━━━━━━━━━━━━━━━━━━━━━━━━╇━━━━━━━━━━━━━━━━━━━━━━━━╇━━━━━━━━━━━━━━━┩\n",
       "│ normalization_14                │ ?                      │             \u001b[38;5;34m3\u001b[0m │\n",
       "│ (\u001b[38;5;33mNormalization\u001b[0m)                 │                        │               │\n",
       "├─────────────────────────────────┼────────────────────────┼───────────────┤\n",
       "│ dense_2 (\u001b[38;5;33mDense\u001b[0m)                 │ ?                      │   \u001b[38;5;34m0\u001b[0m (unbuilt) │\n",
       "└─────────────────────────────────┴────────────────────────┴───────────────┘\n"
      ]
     },
     "metadata": {},
     "output_type": "display_data"
    },
    {
     "data": {
      "text/html": [
       "<pre style=\"white-space:pre;overflow-x:auto;line-height:normal;font-family:Menlo,'DejaVu Sans Mono',consolas,'Courier New',monospace\"><span style=\"font-weight: bold\"> Total params: </span><span style=\"color: #00af00; text-decoration-color: #00af00\">3</span> (16.00 B)\n",
       "</pre>\n"
      ],
      "text/plain": [
       "\u001b[1m Total params: \u001b[0m\u001b[38;5;34m3\u001b[0m (16.00 B)\n"
      ]
     },
     "metadata": {},
     "output_type": "display_data"
    },
    {
     "data": {
      "text/html": [
       "<pre style=\"white-space:pre;overflow-x:auto;line-height:normal;font-family:Menlo,'DejaVu Sans Mono',consolas,'Courier New',monospace\"><span style=\"font-weight: bold\"> Trainable params: </span><span style=\"color: #00af00; text-decoration-color: #00af00\">0</span> (0.00 B)\n",
       "</pre>\n"
      ],
      "text/plain": [
       "\u001b[1m Trainable params: \u001b[0m\u001b[38;5;34m0\u001b[0m (0.00 B)\n"
      ]
     },
     "metadata": {},
     "output_type": "display_data"
    },
    {
     "data": {
      "text/html": [
       "<pre style=\"white-space:pre;overflow-x:auto;line-height:normal;font-family:Menlo,'DejaVu Sans Mono',consolas,'Courier New',monospace\"><span style=\"font-weight: bold\"> Non-trainable params: </span><span style=\"color: #00af00; text-decoration-color: #00af00\">3</span> (16.00 B)\n",
       "</pre>\n"
      ],
      "text/plain": [
       "\u001b[1m Non-trainable params: \u001b[0m\u001b[38;5;34m3\u001b[0m (16.00 B)\n"
      ]
     },
     "metadata": {},
     "output_type": "display_data"
    }
   ],
   "source": [
    "single_feature_model.summary()"
   ]
  },
  {
   "cell_type": "code",
   "execution_count": 129,
   "id": "c64d57dc-c166-4278-a806-91c7d4fd79d2",
   "metadata": {},
   "outputs": [],
   "source": [
    "# define loss and optimizer\n",
    "loss = keras.losses.MeanAbsoluteError() #mse\n",
    "optim = keras.optimizers.Adam(learning_rate=0.25) #learning rate = 0.1 \n",
    "\n",
    "single_feature_model.compile(optimizer=optim, loss=loss) "
   ]
  },
  {
   "cell_type": "code",
   "execution_count": 130,
   "id": "24152048-4e80-404c-aeb8-dac37d199034",
   "metadata": {},
   "outputs": [
    {
     "name": "stdout",
     "output_type": "stream",
     "text": [
      "Epoch 1/100\n",
      "\u001b[1m4179/4179\u001b[0m \u001b[32m━━━━━━━━━━━━━━━━━━━━\u001b[0m\u001b[37m\u001b[0m \u001b[1m5s\u001b[0m 957us/step - loss: 44.6533 - val_loss: 23.6889\n",
      "Epoch 2/100\n",
      "\u001b[1m4179/4179\u001b[0m \u001b[32m━━━━━━━━━━━━━━━━━━━━\u001b[0m\u001b[37m\u001b[0m \u001b[1m4s\u001b[0m 1ms/step - loss: 23.7040 - val_loss: 23.6686\n",
      "Epoch 3/100\n",
      "\u001b[1m4179/4179\u001b[0m \u001b[32m━━━━━━━━━━━━━━━━━━━━\u001b[0m\u001b[37m\u001b[0m \u001b[1m3s\u001b[0m 772us/step - loss: 23.5744 - val_loss: 23.6885\n",
      "Epoch 4/100\n",
      "\u001b[1m4179/4179\u001b[0m \u001b[32m━━━━━━━━━━━━━━━━━━━━\u001b[0m\u001b[37m\u001b[0m \u001b[1m3s\u001b[0m 660us/step - loss: 23.6665 - val_loss: 23.6790\n",
      "Epoch 5/100\n",
      "\u001b[1m4179/4179\u001b[0m \u001b[32m━━━━━━━━━━━━━━━━━━━━\u001b[0m\u001b[37m\u001b[0m \u001b[1m4s\u001b[0m 1ms/step - loss: 23.7206 - val_loss: 23.6645\n",
      "Epoch 6/100\n",
      "\u001b[1m4179/4179\u001b[0m \u001b[32m━━━━━━━━━━━━━━━━━━━━\u001b[0m\u001b[37m\u001b[0m \u001b[1m5s\u001b[0m 1ms/step - loss: 23.3968 - val_loss: 23.6833\n",
      "Epoch 7/100\n",
      "\u001b[1m4179/4179\u001b[0m \u001b[32m━━━━━━━━━━━━━━━━━━━━\u001b[0m\u001b[37m\u001b[0m \u001b[1m4s\u001b[0m 949us/step - loss: 23.4663 - val_loss: 23.7031\n",
      "Epoch 8/100\n",
      "\u001b[1m4179/4179\u001b[0m \u001b[32m━━━━━━━━━━━━━━━━━━━━\u001b[0m\u001b[37m\u001b[0m \u001b[1m3s\u001b[0m 782us/step - loss: 23.7021 - val_loss: 23.6735\n",
      "Epoch 9/100\n",
      "\u001b[1m4179/4179\u001b[0m \u001b[32m━━━━━━━━━━━━━━━━━━━━\u001b[0m\u001b[37m\u001b[0m \u001b[1m4s\u001b[0m 930us/step - loss: 23.5008 - val_loss: 23.6894\n",
      "Epoch 10/100\n",
      "\u001b[1m4179/4179\u001b[0m \u001b[32m━━━━━━━━━━━━━━━━━━━━\u001b[0m\u001b[37m\u001b[0m \u001b[1m5s\u001b[0m 1ms/step - loss: 23.3131 - val_loss: 23.7036\n",
      "Epoch 11/100\n",
      "\u001b[1m4179/4179\u001b[0m \u001b[32m━━━━━━━━━━━━━━━━━━━━\u001b[0m\u001b[37m\u001b[0m \u001b[1m5s\u001b[0m 1ms/step - loss: 23.6295 - val_loss: 23.6726\n",
      "Epoch 12/100\n",
      "\u001b[1m4179/4179\u001b[0m \u001b[32m━━━━━━━━━━━━━━━━━━━━\u001b[0m\u001b[37m\u001b[0m \u001b[1m3s\u001b[0m 672us/step - loss: 23.6406 - val_loss: 23.7036\n",
      "Epoch 13/100\n",
      "\u001b[1m4179/4179\u001b[0m \u001b[32m━━━━━━━━━━━━━━━━━━━━\u001b[0m\u001b[37m\u001b[0m \u001b[1m4s\u001b[0m 932us/step - loss: 23.5428 - val_loss: 23.6752\n",
      "Epoch 14/100\n",
      "\u001b[1m4179/4179\u001b[0m \u001b[32m━━━━━━━━━━━━━━━━━━━━\u001b[0m\u001b[37m\u001b[0m \u001b[1m4s\u001b[0m 1ms/step - loss: 23.8311 - val_loss: 23.6712\n",
      "Epoch 15/100\n",
      "\u001b[1m4179/4179\u001b[0m \u001b[32m━━━━━━━━━━━━━━━━━━━━\u001b[0m\u001b[37m\u001b[0m \u001b[1m4s\u001b[0m 1ms/step - loss: 23.5981 - val_loss: 23.6614\n",
      "Epoch 16/100\n",
      "\u001b[1m4179/4179\u001b[0m \u001b[32m━━━━━━━━━━━━━━━━━━━━\u001b[0m\u001b[37m\u001b[0m \u001b[1m5s\u001b[0m 1ms/step - loss: 23.4789 - val_loss: 23.7164\n",
      "Epoch 17/100\n",
      "\u001b[1m4179/4179\u001b[0m \u001b[32m━━━━━━━━━━━━━━━━━━━━\u001b[0m\u001b[37m\u001b[0m \u001b[1m4s\u001b[0m 1ms/step - loss: 23.4733 - val_loss: 23.6668\n",
      "Epoch 18/100\n",
      "\u001b[1m4179/4179\u001b[0m \u001b[32m━━━━━━━━━━━━━━━━━━━━\u001b[0m\u001b[37m\u001b[0m \u001b[1m4s\u001b[0m 1ms/step - loss: 23.7798 - val_loss: 23.6882\n",
      "Epoch 19/100\n",
      "\u001b[1m4179/4179\u001b[0m \u001b[32m━━━━━━━━━━━━━━━━━━━━\u001b[0m\u001b[37m\u001b[0m \u001b[1m3s\u001b[0m 761us/step - loss: 23.6160 - val_loss: 23.7128\n",
      "Epoch 20/100\n",
      "\u001b[1m4179/4179\u001b[0m \u001b[32m━━━━━━━━━━━━━━━━━━━━\u001b[0m\u001b[37m\u001b[0m \u001b[1m3s\u001b[0m 661us/step - loss: 23.6615 - val_loss: 23.7027\n",
      "Epoch 21/100\n",
      "\u001b[1m4179/4179\u001b[0m \u001b[32m━━━━━━━━━━━━━━━━━━━━\u001b[0m\u001b[37m\u001b[0m \u001b[1m4s\u001b[0m 942us/step - loss: 23.5617 - val_loss: 23.6649\n",
      "Epoch 22/100\n",
      "\u001b[1m4179/4179\u001b[0m \u001b[32m━━━━━━━━━━━━━━━━━━━━\u001b[0m\u001b[37m\u001b[0m \u001b[1m4s\u001b[0m 1ms/step - loss: 23.5953 - val_loss: 23.6923\n",
      "Epoch 23/100\n",
      "\u001b[1m4179/4179\u001b[0m \u001b[32m━━━━━━━━━━━━━━━━━━━━\u001b[0m\u001b[37m\u001b[0m \u001b[1m4s\u001b[0m 930us/step - loss: 23.5636 - val_loss: 23.6607\n",
      "Epoch 24/100\n",
      "\u001b[1m4179/4179\u001b[0m \u001b[32m━━━━━━━━━━━━━━━━━━━━\u001b[0m\u001b[37m\u001b[0m \u001b[1m3s\u001b[0m 739us/step - loss: 23.5748 - val_loss: 23.6597\n",
      "Epoch 25/100\n",
      "\u001b[1m4179/4179\u001b[0m \u001b[32m━━━━━━━━━━━━━━━━━━━━\u001b[0m\u001b[37m\u001b[0m \u001b[1m4s\u001b[0m 874us/step - loss: 23.6687 - val_loss: 23.6714\n",
      "Epoch 26/100\n",
      "\u001b[1m4179/4179\u001b[0m \u001b[32m━━━━━━━━━━━━━━━━━━━━\u001b[0m\u001b[37m\u001b[0m \u001b[1m4s\u001b[0m 942us/step - loss: 23.7067 - val_loss: 23.6779\n",
      "Epoch 27/100\n",
      "\u001b[1m4179/4179\u001b[0m \u001b[32m━━━━━━━━━━━━━━━━━━━━\u001b[0m\u001b[37m\u001b[0m \u001b[1m4s\u001b[0m 991us/step - loss: 23.5476 - val_loss: 23.6882\n",
      "Epoch 28/100\n",
      "\u001b[1m4179/4179\u001b[0m \u001b[32m━━━━━━━━━━━━━━━━━━━━\u001b[0m\u001b[37m\u001b[0m \u001b[1m4s\u001b[0m 953us/step - loss: 23.6581 - val_loss: 23.6868\n",
      "Epoch 29/100\n",
      "\u001b[1m4179/4179\u001b[0m \u001b[32m━━━━━━━━━━━━━━━━━━━━\u001b[0m\u001b[37m\u001b[0m \u001b[1m4s\u001b[0m 932us/step - loss: 23.4401 - val_loss: 23.6834\n",
      "Epoch 30/100\n",
      "\u001b[1m4179/4179\u001b[0m \u001b[32m━━━━━━━━━━━━━━━━━━━━\u001b[0m\u001b[37m\u001b[0m \u001b[1m4s\u001b[0m 999us/step - loss: 23.7224 - val_loss: 23.6728\n",
      "Epoch 31/100\n",
      "\u001b[1m4179/4179\u001b[0m \u001b[32m━━━━━━━━━━━━━━━━━━━━\u001b[0m\u001b[37m\u001b[0m \u001b[1m4s\u001b[0m 926us/step - loss: 23.5427 - val_loss: 23.6926\n",
      "Epoch 32/100\n",
      "\u001b[1m4179/4179\u001b[0m \u001b[32m━━━━━━━━━━━━━━━━━━━━\u001b[0m\u001b[37m\u001b[0m \u001b[1m3s\u001b[0m 686us/step - loss: 23.5275 - val_loss: 23.6615\n",
      "Epoch 33/100\n",
      "\u001b[1m4179/4179\u001b[0m \u001b[32m━━━━━━━━━━━━━━━━━━━━\u001b[0m\u001b[37m\u001b[0m \u001b[1m4s\u001b[0m 890us/step - loss: 23.5882 - val_loss: 23.6612\n",
      "Epoch 34/100\n",
      "\u001b[1m4179/4179\u001b[0m \u001b[32m━━━━━━━━━━━━━━━━━━━━\u001b[0m\u001b[37m\u001b[0m \u001b[1m4s\u001b[0m 1ms/step - loss: 23.6562 - val_loss: 23.6638\n",
      "Epoch 35/100\n",
      "\u001b[1m4179/4179\u001b[0m \u001b[32m━━━━━━━━━━━━━━━━━━━━\u001b[0m\u001b[37m\u001b[0m \u001b[1m4s\u001b[0m 1ms/step - loss: 23.6165 - val_loss: 23.6729\n",
      "Epoch 36/100\n",
      "\u001b[1m4179/4179\u001b[0m \u001b[32m━━━━━━━━━━━━━━━━━━━━\u001b[0m\u001b[37m\u001b[0m \u001b[1m3s\u001b[0m 751us/step - loss: 23.5165 - val_loss: 23.6635\n",
      "Epoch 37/100\n",
      "\u001b[1m4179/4179\u001b[0m \u001b[32m━━━━━━━━━━━━━━━━━━━━\u001b[0m\u001b[37m\u001b[0m \u001b[1m3s\u001b[0m 819us/step - loss: 23.7271 - val_loss: 23.7090\n",
      "Epoch 38/100\n",
      "\u001b[1m4179/4179\u001b[0m \u001b[32m━━━━━━━━━━━━━━━━━━━━\u001b[0m\u001b[37m\u001b[0m \u001b[1m5s\u001b[0m 1ms/step - loss: 23.6059 - val_loss: 23.6663\n",
      "Epoch 39/100\n",
      "\u001b[1m4179/4179\u001b[0m \u001b[32m━━━━━━━━━━━━━━━━━━━━\u001b[0m\u001b[37m\u001b[0m \u001b[1m5s\u001b[0m 1ms/step - loss: 23.7792 - val_loss: 23.6623\n",
      "Epoch 40/100\n",
      "\u001b[1m4179/4179\u001b[0m \u001b[32m━━━━━━━━━━━━━━━━━━━━\u001b[0m\u001b[37m\u001b[0m \u001b[1m3s\u001b[0m 722us/step - loss: 23.2351 - val_loss: 23.6590\n",
      "Epoch 41/100\n",
      "\u001b[1m4179/4179\u001b[0m \u001b[32m━━━━━━━━━━━━━━━━━━━━\u001b[0m\u001b[37m\u001b[0m \u001b[1m3s\u001b[0m 727us/step - loss: 23.5064 - val_loss: 23.6838\n",
      "Epoch 42/100\n",
      "\u001b[1m4179/4179\u001b[0m \u001b[32m━━━━━━━━━━━━━━━━━━━━\u001b[0m\u001b[37m\u001b[0m \u001b[1m4s\u001b[0m 945us/step - loss: 23.5104 - val_loss: 23.6658\n",
      "Epoch 43/100\n",
      "\u001b[1m4179/4179\u001b[0m \u001b[32m━━━━━━━━━━━━━━━━━━━━\u001b[0m\u001b[37m\u001b[0m \u001b[1m4s\u001b[0m 1ms/step - loss: 23.3622 - val_loss: 23.6986\n",
      "Epoch 44/100\n",
      "\u001b[1m4179/4179\u001b[0m \u001b[32m━━━━━━━━━━━━━━━━━━━━\u001b[0m\u001b[37m\u001b[0m \u001b[1m4s\u001b[0m 899us/step - loss: 23.5328 - val_loss: 23.7021\n",
      "Epoch 45/100\n",
      "\u001b[1m4179/4179\u001b[0m \u001b[32m━━━━━━━━━━━━━━━━━━━━\u001b[0m\u001b[37m\u001b[0m \u001b[1m3s\u001b[0m 687us/step - loss: 23.5782 - val_loss: 23.6684\n",
      "Epoch 46/100\n",
      "\u001b[1m4179/4179\u001b[0m \u001b[32m━━━━━━━━━━━━━━━━━━━━\u001b[0m\u001b[37m\u001b[0m \u001b[1m4s\u001b[0m 958us/step - loss: 23.6952 - val_loss: 23.6766\n",
      "Epoch 47/100\n",
      "\u001b[1m4179/4179\u001b[0m \u001b[32m━━━━━━━━━━━━━━━━━━━━\u001b[0m\u001b[37m\u001b[0m \u001b[1m5s\u001b[0m 1ms/step - loss: 23.3444 - val_loss: 23.6611\n",
      "Epoch 48/100\n",
      "\u001b[1m4179/4179\u001b[0m \u001b[32m━━━━━━━━━━━━━━━━━━━━\u001b[0m\u001b[37m\u001b[0m \u001b[1m5s\u001b[0m 1ms/step - loss: 23.6353 - val_loss: 23.6857\n",
      "Epoch 49/100\n",
      "\u001b[1m4179/4179\u001b[0m \u001b[32m━━━━━━━━━━━━━━━━━━━━\u001b[0m\u001b[37m\u001b[0m \u001b[1m4s\u001b[0m 848us/step - loss: 23.2956 - val_loss: 23.6971\n",
      "Epoch 50/100\n",
      "\u001b[1m4179/4179\u001b[0m \u001b[32m━━━━━━━━━━━━━━━━━━━━\u001b[0m\u001b[37m\u001b[0m \u001b[1m4s\u001b[0m 968us/step - loss: 23.6821 - val_loss: 23.6775\n",
      "Epoch 51/100\n",
      "\u001b[1m4179/4179\u001b[0m \u001b[32m━━━━━━━━━━━━━━━━━━━━\u001b[0m\u001b[37m\u001b[0m \u001b[1m6s\u001b[0m 1ms/step - loss: 23.5918 - val_loss: 23.6613\n",
      "Epoch 52/100\n",
      "\u001b[1m4179/4179\u001b[0m \u001b[32m━━━━━━━━━━━━━━━━━━━━\u001b[0m\u001b[37m\u001b[0m \u001b[1m4s\u001b[0m 986us/step - loss: 23.5877 - val_loss: 23.7739\n",
      "Epoch 53/100\n",
      "\u001b[1m4179/4179\u001b[0m \u001b[32m━━━━━━━━━━━━━━━━━━━━\u001b[0m\u001b[37m\u001b[0m \u001b[1m5s\u001b[0m 1ms/step - loss: 23.6510 - val_loss: 23.6677\n",
      "Epoch 54/100\n",
      "\u001b[1m4179/4179\u001b[0m \u001b[32m━━━━━━━━━━━━━━━━━━━━\u001b[0m\u001b[37m\u001b[0m \u001b[1m5s\u001b[0m 1ms/step - loss: 23.4996 - val_loss: 23.6614\n",
      "Epoch 55/100\n",
      "\u001b[1m4179/4179\u001b[0m \u001b[32m━━━━━━━━━━━━━━━━━━━━\u001b[0m\u001b[37m\u001b[0m \u001b[1m5s\u001b[0m 1ms/step - loss: 23.5755 - val_loss: 23.7177\n",
      "Epoch 56/100\n",
      "\u001b[1m4179/4179\u001b[0m \u001b[32m━━━━━━━━━━━━━━━━━━━━\u001b[0m\u001b[37m\u001b[0m \u001b[1m4s\u001b[0m 999us/step - loss: 23.4708 - val_loss: 23.6861\n",
      "Epoch 57/100\n",
      "\u001b[1m4179/4179\u001b[0m \u001b[32m━━━━━━━━━━━━━━━━━━━━\u001b[0m\u001b[37m\u001b[0m \u001b[1m5s\u001b[0m 1ms/step - loss: 23.6353 - val_loss: 23.7374\n",
      "Epoch 58/100\n",
      "\u001b[1m4179/4179\u001b[0m \u001b[32m━━━━━━━━━━━━━━━━━━━━\u001b[0m\u001b[37m\u001b[0m \u001b[1m5s\u001b[0m 1ms/step - loss: 23.5439 - val_loss: 23.6998\n",
      "Epoch 59/100\n",
      "\u001b[1m4179/4179\u001b[0m \u001b[32m━━━━━━━━━━━━━━━━━━━━\u001b[0m\u001b[37m\u001b[0m \u001b[1m3s\u001b[0m 738us/step - loss: 23.6237 - val_loss: 23.7041\n",
      "Epoch 60/100\n",
      "\u001b[1m4179/4179\u001b[0m \u001b[32m━━━━━━━━━━━━━━━━━━━━\u001b[0m\u001b[37m\u001b[0m \u001b[1m3s\u001b[0m 812us/step - loss: 23.2793 - val_loss: 23.6990\n",
      "Epoch 61/100\n",
      "\u001b[1m4179/4179\u001b[0m \u001b[32m━━━━━━━━━━━━━━━━━━━━\u001b[0m\u001b[37m\u001b[0m \u001b[1m4s\u001b[0m 971us/step - loss: 23.5507 - val_loss: 23.6939\n",
      "Epoch 62/100\n",
      "\u001b[1m4179/4179\u001b[0m \u001b[32m━━━━━━━━━━━━━━━━━━━━\u001b[0m\u001b[37m\u001b[0m \u001b[1m5s\u001b[0m 1ms/step - loss: 23.4866 - val_loss: 23.6936\n",
      "Epoch 63/100\n",
      "\u001b[1m4179/4179\u001b[0m \u001b[32m━━━━━━━━━━━━━━━━━━━━\u001b[0m\u001b[37m\u001b[0m \u001b[1m3s\u001b[0m 696us/step - loss: 23.5651 - val_loss: 23.6673\n",
      "Epoch 64/100\n",
      "\u001b[1m4179/4179\u001b[0m \u001b[32m━━━━━━━━━━━━━━━━━━━━\u001b[0m\u001b[37m\u001b[0m \u001b[1m3s\u001b[0m 740us/step - loss: 23.4313 - val_loss: 23.6661\n",
      "Epoch 65/100\n",
      "\u001b[1m4179/4179\u001b[0m \u001b[32m━━━━━━━━━━━━━━━━━━━━\u001b[0m\u001b[37m\u001b[0m \u001b[1m4s\u001b[0m 1ms/step - loss: 23.5530 - val_loss: 23.7083\n",
      "Epoch 66/100\n",
      "\u001b[1m4179/4179\u001b[0m \u001b[32m━━━━━━━━━━━━━━━━━━━━\u001b[0m\u001b[37m\u001b[0m \u001b[1m5s\u001b[0m 1ms/step - loss: 23.4184 - val_loss: 23.7023\n",
      "Epoch 67/100\n",
      "\u001b[1m4179/4179\u001b[0m \u001b[32m━━━━━━━━━━━━━━━━━━━━\u001b[0m\u001b[37m\u001b[0m \u001b[1m3s\u001b[0m 774us/step - loss: 23.5277 - val_loss: 23.6803\n",
      "Epoch 68/100\n",
      "\u001b[1m4179/4179\u001b[0m \u001b[32m━━━━━━━━━━━━━━━━━━━━\u001b[0m\u001b[37m\u001b[0m \u001b[1m4s\u001b[0m 894us/step - loss: 23.4520 - val_loss: 23.6819\n",
      "Epoch 69/100\n",
      "\u001b[1m4179/4179\u001b[0m \u001b[32m━━━━━━━━━━━━━━━━━━━━\u001b[0m\u001b[37m\u001b[0m \u001b[1m4s\u001b[0m 993us/step - loss: 23.5888 - val_loss: 23.6724\n",
      "Epoch 70/100\n",
      "\u001b[1m4179/4179\u001b[0m \u001b[32m━━━━━━━━━━━━━━━━━━━━\u001b[0m\u001b[37m\u001b[0m \u001b[1m4s\u001b[0m 1ms/step - loss: 23.5447 - val_loss: 23.6789\n",
      "Epoch 71/100\n",
      "\u001b[1m4179/4179\u001b[0m \u001b[32m━━━━━━━━━━━━━━━━━━━━\u001b[0m\u001b[37m\u001b[0m \u001b[1m3s\u001b[0m 759us/step - loss: 23.6615 - val_loss: 23.6897\n",
      "Epoch 72/100\n",
      "\u001b[1m4179/4179\u001b[0m \u001b[32m━━━━━━━━━━━━━━━━━━━━\u001b[0m\u001b[37m\u001b[0m \u001b[1m3s\u001b[0m 719us/step - loss: 23.6522 - val_loss: 23.6617\n",
      "Epoch 73/100\n",
      "\u001b[1m4179/4179\u001b[0m \u001b[32m━━━━━━━━━━━━━━━━━━━━\u001b[0m\u001b[37m\u001b[0m \u001b[1m4s\u001b[0m 986us/step - loss: 23.5963 - val_loss: 23.6623\n",
      "Epoch 74/100\n",
      "\u001b[1m4179/4179\u001b[0m \u001b[32m━━━━━━━━━━━━━━━━━━━━\u001b[0m\u001b[37m\u001b[0m \u001b[1m5s\u001b[0m 1ms/step - loss: 23.4769 - val_loss: 23.7334\n",
      "Epoch 75/100\n",
      "\u001b[1m4179/4179\u001b[0m \u001b[32m━━━━━━━━━━━━━━━━━━━━\u001b[0m\u001b[37m\u001b[0m \u001b[1m4s\u001b[0m 852us/step - loss: 23.4824 - val_loss: 23.6706\n",
      "Epoch 76/100\n",
      "\u001b[1m4179/4179\u001b[0m \u001b[32m━━━━━━━━━━━━━━━━━━━━\u001b[0m\u001b[37m\u001b[0m \u001b[1m3s\u001b[0m 674us/step - loss: 23.4237 - val_loss: 23.6890\n",
      "Epoch 77/100\n",
      "\u001b[1m4179/4179\u001b[0m \u001b[32m━━━━━━━━━━━━━━━━━━━━\u001b[0m\u001b[37m\u001b[0m \u001b[1m4s\u001b[0m 930us/step - loss: 23.5079 - val_loss: 23.6684\n",
      "Epoch 78/100\n",
      "\u001b[1m4179/4179\u001b[0m \u001b[32m━━━━━━━━━━━━━━━━━━━━\u001b[0m\u001b[37m\u001b[0m \u001b[1m4s\u001b[0m 956us/step - loss: 23.6119 - val_loss: 23.6920\n",
      "Epoch 79/100\n",
      "\u001b[1m4179/4179\u001b[0m \u001b[32m━━━━━━━━━━━━━━━━━━━━\u001b[0m\u001b[37m\u001b[0m \u001b[1m4s\u001b[0m 1ms/step - loss: 23.6355 - val_loss: 23.6784\n",
      "Epoch 80/100\n",
      "\u001b[1m4179/4179\u001b[0m \u001b[32m━━━━━━━━━━━━━━━━━━━━\u001b[0m\u001b[37m\u001b[0m \u001b[1m3s\u001b[0m 824us/step - loss: 23.3326 - val_loss: 23.6977\n",
      "Epoch 81/100\n",
      "\u001b[1m4179/4179\u001b[0m \u001b[32m━━━━━━━━━━━━━━━━━━━━\u001b[0m\u001b[37m\u001b[0m \u001b[1m4s\u001b[0m 873us/step - loss: 23.6162 - val_loss: 23.6956\n",
      "Epoch 82/100\n",
      "\u001b[1m4179/4179\u001b[0m \u001b[32m━━━━━━━━━━━━━━━━━━━━\u001b[0m\u001b[37m\u001b[0m \u001b[1m4s\u001b[0m 981us/step - loss: 23.7592 - val_loss: 23.7323\n",
      "Epoch 83/100\n",
      "\u001b[1m4179/4179\u001b[0m \u001b[32m━━━━━━━━━━━━━━━━━━━━\u001b[0m\u001b[37m\u001b[0m \u001b[1m5s\u001b[0m 1ms/step - loss: 23.7504 - val_loss: 23.6598\n",
      "Epoch 84/100\n",
      "\u001b[1m4179/4179\u001b[0m \u001b[32m━━━━━━━━━━━━━━━━━━━━\u001b[0m\u001b[37m\u001b[0m \u001b[1m3s\u001b[0m 757us/step - loss: 23.4872 - val_loss: 23.6841\n",
      "Epoch 85/100\n",
      "\u001b[1m4179/4179\u001b[0m \u001b[32m━━━━━━━━━━━━━━━━━━━━\u001b[0m\u001b[37m\u001b[0m \u001b[1m4s\u001b[0m 856us/step - loss: 23.4333 - val_loss: 23.6697\n",
      "Epoch 86/100\n",
      "\u001b[1m4179/4179\u001b[0m \u001b[32m━━━━━━━━━━━━━━━━━━━━\u001b[0m\u001b[37m\u001b[0m \u001b[1m4s\u001b[0m 980us/step - loss: 23.5937 - val_loss: 23.7108\n",
      "Epoch 87/100\n",
      "\u001b[1m4179/4179\u001b[0m \u001b[32m━━━━━━━━━━━━━━━━━━━━\u001b[0m\u001b[37m\u001b[0m \u001b[1m4s\u001b[0m 1ms/step - loss: 23.4363 - val_loss: 23.6764\n",
      "Epoch 88/100\n",
      "\u001b[1m4179/4179\u001b[0m \u001b[32m━━━━━━━━━━━━━━━━━━━━\u001b[0m\u001b[37m\u001b[0m \u001b[1m3s\u001b[0m 794us/step - loss: 23.6001 - val_loss: 23.6644\n",
      "Epoch 89/100\n",
      "\u001b[1m4179/4179\u001b[0m \u001b[32m━━━━━━━━━━━━━━━━━━━━\u001b[0m\u001b[37m\u001b[0m \u001b[1m4s\u001b[0m 844us/step - loss: 23.5336 - val_loss: 23.6669\n",
      "Epoch 90/100\n",
      "\u001b[1m4179/4179\u001b[0m \u001b[32m━━━━━━━━━━━━━━━━━━━━\u001b[0m\u001b[37m\u001b[0m \u001b[1m5s\u001b[0m 1ms/step - loss: 23.5361 - val_loss: 23.6708\n",
      "Epoch 91/100\n",
      "\u001b[1m4179/4179\u001b[0m \u001b[32m━━━━━━━━━━━━━━━━━━━━\u001b[0m\u001b[37m\u001b[0m \u001b[1m5s\u001b[0m 1ms/step - loss: 23.5114 - val_loss: 23.6757\n",
      "Epoch 92/100\n",
      "\u001b[1m4179/4179\u001b[0m \u001b[32m━━━━━━━━━━━━━━━━━━━━\u001b[0m\u001b[37m\u001b[0m \u001b[1m3s\u001b[0m 724us/step - loss: 23.4132 - val_loss: 23.6597\n",
      "Epoch 93/100\n",
      "\u001b[1m4179/4179\u001b[0m \u001b[32m━━━━━━━━━━━━━━━━━━━━\u001b[0m\u001b[37m\u001b[0m \u001b[1m3s\u001b[0m 828us/step - loss: 23.6047 - val_loss: 23.6841\n",
      "Epoch 94/100\n",
      "\u001b[1m4179/4179\u001b[0m \u001b[32m━━━━━━━━━━━━━━━━━━━━\u001b[0m\u001b[37m\u001b[0m \u001b[1m4s\u001b[0m 989us/step - loss: 23.3365 - val_loss: 23.7314\n",
      "Epoch 95/100\n",
      "\u001b[1m4179/4179\u001b[0m \u001b[32m━━━━━━━━━━━━━━━━━━━━\u001b[0m\u001b[37m\u001b[0m \u001b[1m5s\u001b[0m 1ms/step - loss: 23.3765 - val_loss: 23.6990\n",
      "Epoch 96/100\n",
      "\u001b[1m4179/4179\u001b[0m \u001b[32m━━━━━━━━━━━━━━━━━━━━\u001b[0m\u001b[37m\u001b[0m \u001b[1m4s\u001b[0m 852us/step - loss: 23.6329 - val_loss: 23.7402\n",
      "Epoch 97/100\n",
      "\u001b[1m4179/4179\u001b[0m \u001b[32m━━━━━━━━━━━━━━━━━━━━\u001b[0m\u001b[37m\u001b[0m \u001b[1m4s\u001b[0m 882us/step - loss: 23.6350 - val_loss: 23.6598\n",
      "Epoch 98/100\n",
      "\u001b[1m4179/4179\u001b[0m \u001b[32m━━━━━━━━━━━━━━━━━━━━\u001b[0m\u001b[37m\u001b[0m \u001b[1m4s\u001b[0m 1ms/step - loss: 23.5595 - val_loss: 23.6685\n",
      "Epoch 99/100\n",
      "\u001b[1m4179/4179\u001b[0m \u001b[32m━━━━━━━━━━━━━━━━━━━━\u001b[0m\u001b[37m\u001b[0m \u001b[1m5s\u001b[0m 1ms/step - loss: 23.5014 - val_loss: 23.6800\n",
      "Epoch 100/100\n",
      "\u001b[1m4179/4179\u001b[0m \u001b[32m━━━━━━━━━━━━━━━━━━━━\u001b[0m\u001b[37m\u001b[0m \u001b[1m3s\u001b[0m 809us/step - loss: 23.7336 - val_loss: 23.6636\n"
     ]
    }
   ],
   "source": [
    "history = single_feature_model.fit(\n",
    "    train_features[feature], train_target, \n",
    "    epochs = 100, \n",
    "    verbose = 1, \n",
    "    # calculate validation results on 20% of training data \n",
    "    validation_split = 0.2) "
   ]
  },
  {
   "cell_type": "code",
   "execution_count": 131,
   "id": "5655f4d5-ff51-4d29-816c-a43bec8c3fa2",
   "metadata": {},
   "outputs": [
    {
     "data": {
      "image/png": "[encoded data removed]",
      "text/plain": [
       "<Figure size 640x480 with 1 Axes>"
      ]
     },
     "metadata": {},
     "output_type": "display_data"
    }
   ],
   "source": [
    "def plot_loss(history):\n",
    "    plt.plot(history.history['loss'], label='loss')\n",
    "    plt.plot(history.history['val_loss'], label='val_loss')\n",
    "    plt.ylim([23, 25])\n",
    "    plt.xlabel('Epoch')\n",
    "    plt.ylabel('Error [distance_traveled]')\n",
    "    plt.legend()\n",
    "    plt.grid(True)\n",
    "plot_loss(history)"
   ]
  },
  {
   "cell_type": "code",
   "execution_count": 133,
   "id": "c6c3c166-6893-48fd-9deb-fdb3f875736c",
   "metadata": {},
   "outputs": [
    {
     "name": "stdout",
     "output_type": "stream",
     "text": [
      "\u001b[1m1306/1306\u001b[0m \u001b[32m━━━━━━━━━━━━━━━━━━━━\u001b[0m\u001b[37m\u001b[0m \u001b[1m1s\u001b[0m 717us/step - loss: 23.2853\n"
     ]
    },
    {
     "data": {
      "text/plain": [
       "23.2115535736084"
      ]
     },
     "execution_count": 133,
     "metadata": {},
     "output_type": "execute_result"
    }
   ],
   "source": [
    "# model evaluation\n",
    "single_feature_model.evaluate(\n",
    "    test_features[feature],\n",
    "    test_target, verbose=1)"
   ]
  },
  {
   "cell_type": "code",
   "execution_count": 141,
   "id": "1254de6e-18bd-471c-ad5f-1ea9f1674e3b",
   "metadata": {},
   "outputs": [],
   "source": [
    "def plot(feature, x=None, y=None):\n",
    "    plt.figure(figsize=(10, 8))\n",
    "    plt.scatter(train_features[feature], train_target, label='Data')\n",
    "    if x is not None and y is not None:\n",
    "        plt.plot(x, y, color='k', label='Predictions')\n",
    "    plt.xlabel(feature)\n",
    "    plt.ylabel(target)\n",
    "    plt.legend()"
   ]
  },
  {
   "cell_type": "code",
   "execution_count": 142,
   "id": "836bb89c-3152-4ae5-825b-bd47310c88dd",
   "metadata": {},
   "outputs": [
    {
     "name": "stdout",
     "output_type": "stream",
     "text": [
      "\u001b[1m7/7\u001b[0m \u001b[32m━━━━━━━━━━━━━━━━━━━━\u001b[0m\u001b[37m\u001b[0m \u001b[1m0s\u001b[0m 2ms/step \n"
     ]
    },
    {
     "ename": "NameError",
     "evalue": "name 'target' is not defined",
     "output_type": "error",
     "traceback": [
      "\u001b[1;31m---------------------------------------------------------------------------\u001b[0m",
      "\u001b[1;31mNameError\u001b[0m                                 Traceback (most recent call last)",
      "Cell \u001b[1;32mIn[142], line 7\u001b[0m\n\u001b[0;32m      4\u001b[0m x \u001b[38;5;241m=\u001b[39m tf\u001b[38;5;241m.\u001b[39mlinspace(range_min, range_max, \u001b[38;5;241m200\u001b[39m)\n\u001b[0;32m      5\u001b[0m y \u001b[38;5;241m=\u001b[39m single_feature_model\u001b[38;5;241m.\u001b[39mpredict(x)\n\u001b[1;32m----> 7\u001b[0m plot(feature, x,y)\n",
      "Cell \u001b[1;32mIn[141], line 7\u001b[0m, in \u001b[0;36mplot\u001b[1;34m(feature, x, y)\u001b[0m\n\u001b[0;32m      5\u001b[0m     plt\u001b[38;5;241m.\u001b[39mplot(x, y, color\u001b[38;5;241m=\u001b[39m\u001b[38;5;124m'\u001b[39m\u001b[38;5;124mk\u001b[39m\u001b[38;5;124m'\u001b[39m, label\u001b[38;5;241m=\u001b[39m\u001b[38;5;124m'\u001b[39m\u001b[38;5;124mPredictions\u001b[39m\u001b[38;5;124m'\u001b[39m)\n\u001b[0;32m      6\u001b[0m plt\u001b[38;5;241m.\u001b[39mxlabel(feature)\n\u001b[1;32m----> 7\u001b[0m plt\u001b[38;5;241m.\u001b[39mylabel(target)\n\u001b[0;32m      8\u001b[0m plt\u001b[38;5;241m.\u001b[39mlegend()\n",
      "\u001b[1;31mNameError\u001b[0m: name 'target' is not defined"
     ]
    },
    {
     "data": {
      "image/png": "[encoded data removed]",
      "text/plain": [
       "<Figure size 1000x800 with 1 Axes>"
      ]
     },
     "metadata": {},
     "output_type": "display_data"
    }
   ],
   "source": [
    "# predict and plot\n",
    "range_min = np.min(test_features[feature]) - 10\n",
    "range_max = np.max(test_features[feature]) + 10\n",
    "x = tf.linspace(range_min, range_max, 200)\n",
    "y = single_feature_model.predict(x)\n",
    "    \n",
    "plot(feature, x,y)"
   ]
  },
  {
   "cell_type": "markdown",
   "id": "8813b8a8-5bcb-4f43-a967-ae3c532a818e",
   "metadata": {},
   "source": [
    "# DNN Model"
   ]
  },
  {
   "cell_type": "code",
   "execution_count": 138,
   "id": "9748003e-0952-46c4-ac67-23a1a5598dd5",
   "metadata": {},
   "outputs": [],
   "source": [
    "dnn_model = keras.Sequential([\n",
    "    single_feature_layer,\n",
    "    layers.Dense(64, activation='relu'),\n",
    "    layers.Dense(64, activation='relu'), \n",
    "    layers.Dense(1)\n",
    "])"
   ]
  },
  {
   "cell_type": "code",
   "execution_count": 146,
   "id": "9423f587-70d8-498c-9d39-035eb7a3d0e3",
   "metadata": {},
   "outputs": [
    {
     "data": {
      "text/html": [
       "<pre style=\"white-space:pre;overflow-x:auto;line-height:normal;font-family:Menlo,'DejaVu Sans Mono',consolas,'Courier New',monospace\"><span style=\"font-weight: bold\">Model: \"sequential_3\"</span>\n",
       "</pre>\n"
      ],
      "text/plain": [
       "\u001b[1mModel: \"sequential_3\"\u001b[0m\n"
      ]
     },
     "metadata": {},
     "output_type": "display_data"
    },
    {
     "data": {
      "text/html": [
       "<pre style=\"white-space:pre;overflow-x:auto;line-height:normal;font-family:Menlo,'DejaVu Sans Mono',consolas,'Courier New',monospace\">┏━━━━━━━━━━━━━━━━━━━━━━━━━━━━━━━━━┳━━━━━━━━━━━━━━━━━━━━━━━━┳━━━━━━━━━━━━━━━┓\n",
       "┃<span style=\"font-weight: bold\"> Layer (type)                    </span>┃<span style=\"font-weight: bold\"> Output Shape           </span>┃<span style=\"font-weight: bold\">       Param # </span>┃\n",
       "┡━━━━━━━━━━━━━━━━━━━━━━━━━━━━━━━━━╇━━━━━━━━━━━━━━━━━━━━━━━━╇━━━━━━━━━━━━━━━┩\n",
       "│ normalization_14                │ (<span style=\"color: #00d7ff; text-decoration-color: #00d7ff\">None</span>, <span style=\"color: #00af00; text-decoration-color: #00af00\">1</span>)              │             <span style=\"color: #00af00; text-decoration-color: #00af00\">3</span> │\n",
       "│ (<span style=\"color: #0087ff; text-decoration-color: #0087ff\">Normalization</span>)                 │                        │               │\n",
       "├─────────────────────────────────┼────────────────────────┼───────────────┤\n",
       "│ dense_3 (<span style=\"color: #0087ff; text-decoration-color: #0087ff\">Dense</span>)                 │ (<span style=\"color: #00d7ff; text-decoration-color: #00d7ff\">None</span>, <span style=\"color: #00af00; text-decoration-color: #00af00\">64</span>)             │           <span style=\"color: #00af00; text-decoration-color: #00af00\">128</span> │\n",
       "├─────────────────────────────────┼────────────────────────┼───────────────┤\n",
       "│ dense_4 (<span style=\"color: #0087ff; text-decoration-color: #0087ff\">Dense</span>)                 │ (<span style=\"color: #00d7ff; text-decoration-color: #00d7ff\">None</span>, <span style=\"color: #00af00; text-decoration-color: #00af00\">64</span>)             │         <span style=\"color: #00af00; text-decoration-color: #00af00\">4,160</span> │\n",
       "├─────────────────────────────────┼────────────────────────┼───────────────┤\n",
       "│ dense_5 (<span style=\"color: #0087ff; text-decoration-color: #0087ff\">Dense</span>)                 │ (<span style=\"color: #00d7ff; text-decoration-color: #00d7ff\">None</span>, <span style=\"color: #00af00; text-decoration-color: #00af00\">1</span>)              │            <span style=\"color: #00af00; text-decoration-color: #00af00\">65</span> │\n",
       "└─────────────────────────────────┴────────────────────────┴───────────────┘\n",
       "</pre>\n"
      ],
      "text/plain": [
       "┏━━━━━━━━━━━━━━━━━━━━━━━━━━━━━━━━━┳━━━━━━━━━━━━━━━━━━━━━━━━┳━━━━━━━━━━━━━━━┓\n",
       "┃\u001b[1m \u001b[0m\u001b[1mLayer (type)                   \u001b[0m\u001b[1m \u001b[0m┃\u001b[1m \u001b[0m\u001b[1mOutput Shape          \u001b[0m\u001b[1m \u001b[0m┃\u001b[1m \u001b[0m\u001b[1m      Param #\u001b[0m\u001b[1m \u001b[0m┃\n",
       "┡━━━━━━━━━━━━━━━━━━━━━━━━━━━━━━━━━╇━━━━━━━━━━━━━━━━━━━━━━━━╇━━━━━━━━━━━━━━━┩\n",
       "│ normalization_14                │ (\u001b[38;5;45mNone\u001b[0m, \u001b[38;5;34m1\u001b[0m)              │             \u001b[38;5;34m3\u001b[0m │\n",
       "│ (\u001b[38;5;33mNormalization\u001b[0m)                 │                        │               │\n",
       "├─────────────────────────────────┼────────────────────────┼───────────────┤\n",
       "│ dense_3 (\u001b[38;5;33mDense\u001b[0m)                 │ (\u001b[38;5;45mNone\u001b[0m, \u001b[38;5;34m64\u001b[0m)             │           \u001b[38;5;34m128\u001b[0m │\n",
       "├─────────────────────────────────┼────────────────────────┼───────────────┤\n",
       "│ dense_4 (\u001b[38;5;33mDense\u001b[0m)                 │ (\u001b[38;5;45mNone\u001b[0m, \u001b[38;5;34m64\u001b[0m)             │         \u001b[38;5;34m4,160\u001b[0m │\n",
       "├─────────────────────────────────┼────────────────────────┼───────────────┤\n",
       "│ dense_5 (\u001b[38;5;33mDense\u001b[0m)                 │ (\u001b[38;5;45mNone\u001b[0m, \u001b[38;5;34m1\u001b[0m)              │            \u001b[38;5;34m65\u001b[0m │\n",
       "└─────────────────────────────────┴────────────────────────┴───────────────┘\n"
      ]
     },
     "metadata": {},
     "output_type": "display_data"
    },
    {
     "data": {
      "text/html": [
       "<pre style=\"white-space:pre;overflow-x:auto;line-height:normal;font-family:Menlo,'DejaVu Sans Mono',consolas,'Courier New',monospace\"><span style=\"font-weight: bold\"> Total params: </span><span style=\"color: #00af00; text-decoration-color: #00af00\">4,356</span> (17.02 KB)\n",
       "</pre>\n"
      ],
      "text/plain": [
       "\u001b[1m Total params: \u001b[0m\u001b[38;5;34m4,356\u001b[0m (17.02 KB)\n"
      ]
     },
     "metadata": {},
     "output_type": "display_data"
    },
    {
     "data": {
      "text/html": [
       "<pre style=\"white-space:pre;overflow-x:auto;line-height:normal;font-family:Menlo,'DejaVu Sans Mono',consolas,'Courier New',monospace\"><span style=\"font-weight: bold\"> Trainable params: </span><span style=\"color: #00af00; text-decoration-color: #00af00\">4,353</span> (17.00 KB)\n",
       "</pre>\n"
      ],
      "text/plain": [
       "\u001b[1m Trainable params: \u001b[0m\u001b[38;5;34m4,353\u001b[0m (17.00 KB)\n"
      ]
     },
     "metadata": {},
     "output_type": "display_data"
    },
    {
     "data": {
      "text/html": [
       "<pre style=\"white-space:pre;overflow-x:auto;line-height:normal;font-family:Menlo,'DejaVu Sans Mono',consolas,'Courier New',monospace\"><span style=\"font-weight: bold\"> Non-trainable params: </span><span style=\"color: #00af00; text-decoration-color: #00af00\">3</span> (16.00 B)\n",
       "</pre>\n"
      ],
      "text/plain": [
       "\u001b[1m Non-trainable params: \u001b[0m\u001b[38;5;34m3\u001b[0m (16.00 B)\n"
      ]
     },
     "metadata": {},
     "output_type": "display_data"
    }
   ],
   "source": [
    "dnn_model.compile(loss=loss, \n",
    "                  optimizer=tf.keras.optimizers.Adam(0.01))\n",
    "\n",
    "dnn_model.summary()"
   ]
  },
  {
   "cell_type": "code",
   "execution_count": 147,
   "id": "d473b8ef-1a22-47be-bdca-cf2709fd3149",
   "metadata": {},
   "outputs": [
    {
     "name": "stdout",
     "output_type": "stream",
     "text": [
      "Epoch 1/100\n",
      "\u001b[1m4179/4179\u001b[0m \u001b[32m━━━━━━━━━━━━━━━━━━━━\u001b[0m\u001b[37m\u001b[0m \u001b[1m6s\u001b[0m 1ms/step - loss: 23.3579 - val_loss: 23.0809\n",
      "Epoch 2/100\n",
      "\u001b[1m4179/4179\u001b[0m \u001b[32m━━━━━━━━━━━━━━━━━━━━\u001b[0m\u001b[37m\u001b[0m \u001b[1m4s\u001b[0m 989us/step - loss: 23.1785 - val_loss: 23.1412\n",
      "Epoch 3/100\n",
      "\u001b[1m4179/4179\u001b[0m \u001b[32m━━━━━━━━━━━━━━━━━━━━\u001b[0m\u001b[37m\u001b[0m \u001b[1m3s\u001b[0m 768us/step - loss: 23.2609 - val_loss: 24.7928\n",
      "Epoch 4/100\n",
      "\u001b[1m4179/4179\u001b[0m \u001b[32m━━━━━━━━━━━━━━━━━━━━\u001b[0m\u001b[37m\u001b[0m \u001b[1m7s\u001b[0m 2ms/step - loss: 23.1399 - val_loss: 23.3589\n",
      "Epoch 5/100\n",
      "\u001b[1m4179/4179\u001b[0m \u001b[32m━━━━━━━━━━━━━━━━━━━━\u001b[0m\u001b[37m\u001b[0m \u001b[1m7s\u001b[0m 2ms/step - loss: 23.3492 - val_loss: 23.0224\n",
      "Epoch 6/100\n",
      "\u001b[1m4179/4179\u001b[0m \u001b[32m━━━━━━━━━━━━━━━━━━━━\u001b[0m\u001b[37m\u001b[0m \u001b[1m4s\u001b[0m 892us/step - loss: 23.1445 - val_loss: 23.1374\n",
      "Epoch 7/100\n",
      "\u001b[1m4179/4179\u001b[0m \u001b[32m━━━━━━━━━━━━━━━━━━━━\u001b[0m\u001b[37m\u001b[0m \u001b[1m6s\u001b[0m 1ms/step - loss: 23.1183 - val_loss: 23.4285\n",
      "Epoch 8/100\n",
      "\u001b[1m4179/4179\u001b[0m \u001b[32m━━━━━━━━━━━━━━━━━━━━\u001b[0m\u001b[37m\u001b[0m \u001b[1m7s\u001b[0m 2ms/step - loss: 23.1789 - val_loss: 23.1034\n",
      "Epoch 9/100\n",
      "\u001b[1m4179/4179\u001b[0m \u001b[32m━━━━━━━━━━━━━━━━━━━━\u001b[0m\u001b[37m\u001b[0m \u001b[1m4s\u001b[0m 897us/step - loss: 23.0200 - val_loss: 23.6681\n",
      "Epoch 10/100\n",
      "\u001b[1m4179/4179\u001b[0m \u001b[32m━━━━━━━━━━━━━━━━━━━━\u001b[0m\u001b[37m\u001b[0m \u001b[1m6s\u001b[0m 1ms/step - loss: 22.9889 - val_loss: 23.0416\n",
      "Epoch 11/100\n",
      "\u001b[1m4179/4179\u001b[0m \u001b[32m━━━━━━━━━━━━━━━━━━━━\u001b[0m\u001b[37m\u001b[0m \u001b[1m10s\u001b[0m 2ms/step - loss: 23.1880 - val_loss: 23.3188\n",
      "Epoch 12/100\n",
      "\u001b[1m4179/4179\u001b[0m \u001b[32m━━━━━━━━━━━━━━━━━━━━\u001b[0m\u001b[37m\u001b[0m \u001b[1m6s\u001b[0m 2ms/step - loss: 23.1692 - val_loss: 23.0916\n",
      "Epoch 13/100\n",
      "\u001b[1m4179/4179\u001b[0m \u001b[32m━━━━━━━━━━━━━━━━━━━━\u001b[0m\u001b[37m\u001b[0m \u001b[1m8s\u001b[0m 2ms/step - loss: 23.0379 - val_loss: 23.1565\n",
      "Epoch 14/100\n",
      "\u001b[1m4179/4179\u001b[0m \u001b[32m━━━━━━━━━━━━━━━━━━━━\u001b[0m\u001b[37m\u001b[0m \u001b[1m4s\u001b[0m 987us/step - loss: 23.2296 - val_loss: 23.0137\n",
      "Epoch 15/100\n",
      "\u001b[1m4179/4179\u001b[0m \u001b[32m━━━━━━━━━━━━━━━━━━━━\u001b[0m\u001b[37m\u001b[0m \u001b[1m7s\u001b[0m 2ms/step - loss: 22.8755 - val_loss: 23.0103\n",
      "Epoch 16/100\n",
      "\u001b[1m4179/4179\u001b[0m \u001b[32m━━━━━━━━━━━━━━━━━━━━\u001b[0m\u001b[37m\u001b[0m \u001b[1m8s\u001b[0m 2ms/step - loss: 22.7693 - val_loss: 23.0784\n",
      "Epoch 17/100\n",
      "\u001b[1m4179/4179\u001b[0m \u001b[32m━━━━━━━━━━━━━━━━━━━━\u001b[0m\u001b[37m\u001b[0m \u001b[1m8s\u001b[0m 2ms/step - loss: 23.1243 - val_loss: 23.0317\n",
      "Epoch 18/100\n",
      "\u001b[1m4179/4179\u001b[0m \u001b[32m━━━━━━━━━━━━━━━━━━━━\u001b[0m\u001b[37m\u001b[0m \u001b[1m5s\u001b[0m 1ms/step - loss: 22.9045 - val_loss: 23.2028\n",
      "Epoch 19/100\n",
      "\u001b[1m4179/4179\u001b[0m \u001b[32m━━━━━━━━━━━━━━━━━━━━\u001b[0m\u001b[37m\u001b[0m \u001b[1m6s\u001b[0m 1ms/step - loss: 23.1657 - val_loss: 23.2361\n",
      "Epoch 20/100\n",
      "\u001b[1m4179/4179\u001b[0m \u001b[32m━━━━━━━━━━━━━━━━━━━━\u001b[0m\u001b[37m\u001b[0m \u001b[1m7s\u001b[0m 2ms/step - loss: 23.0391 - val_loss: 23.2007\n",
      "Epoch 21/100\n",
      "\u001b[1m4179/4179\u001b[0m \u001b[32m━━━━━━━━━━━━━━━━━━━━\u001b[0m\u001b[37m\u001b[0m \u001b[1m4s\u001b[0m 910us/step - loss: 23.1715 - val_loss: 23.3263\n",
      "Epoch 22/100\n",
      "\u001b[1m4179/4179\u001b[0m \u001b[32m━━━━━━━━━━━━━━━━━━━━\u001b[0m\u001b[37m\u001b[0m \u001b[1m6s\u001b[0m 2ms/step - loss: 23.1166 - val_loss: 23.0148\n",
      "Epoch 23/100\n",
      "\u001b[1m4179/4179\u001b[0m \u001b[32m━━━━━━━━━━━━━━━━━━━━\u001b[0m\u001b[37m\u001b[0m \u001b[1m8s\u001b[0m 2ms/step - loss: 22.7622 - val_loss: 23.0468\n",
      "Epoch 24/100\n",
      "\u001b[1m4179/4179\u001b[0m \u001b[32m━━━━━━━━━━━━━━━━━━━━\u001b[0m\u001b[37m\u001b[0m \u001b[1m6s\u001b[0m 1ms/step - loss: 22.7386 - val_loss: 23.2631\n",
      "Epoch 25/100\n",
      "\u001b[1m4179/4179\u001b[0m \u001b[32m━━━━━━━━━━━━━━━━━━━━\u001b[0m\u001b[37m\u001b[0m \u001b[1m7s\u001b[0m 2ms/step - loss: 23.0085 - val_loss: 23.0045\n",
      "Epoch 26/100\n",
      "\u001b[1m4179/4179\u001b[0m \u001b[32m━━━━━━━━━━━━━━━━━━━━\u001b[0m\u001b[37m\u001b[0m \u001b[1m4s\u001b[0m 990us/step - loss: 22.9971 - val_loss: 23.0133\n",
      "Epoch 27/100\n",
      "\u001b[1m4179/4179\u001b[0m \u001b[32m━━━━━━━━━━━━━━━━━━━━\u001b[0m\u001b[37m\u001b[0m \u001b[1m7s\u001b[0m 2ms/step - loss: 22.8516 - val_loss: 23.4399\n",
      "Epoch 28/100\n",
      "\u001b[1m4179/4179\u001b[0m \u001b[32m━━━━━━━━━━━━━━━━━━━━\u001b[0m\u001b[37m\u001b[0m \u001b[1m7s\u001b[0m 2ms/step - loss: 23.2407 - val_loss: 23.1299\n",
      "Epoch 29/100\n",
      "\u001b[1m4179/4179\u001b[0m \u001b[32m━━━━━━━━━━━━━━━━━━━━\u001b[0m\u001b[37m\u001b[0m \u001b[1m5s\u001b[0m 1ms/step - loss: 22.8638 - val_loss: 23.0752\n",
      "Epoch 30/100\n",
      "\u001b[1m4179/4179\u001b[0m \u001b[32m━━━━━━━━━━━━━━━━━━━━\u001b[0m\u001b[37m\u001b[0m \u001b[1m7s\u001b[0m 2ms/step - loss: 23.1567 - val_loss: 23.0206\n",
      "Epoch 31/100\n",
      "\u001b[1m4179/4179\u001b[0m \u001b[32m━━━━━━━━━━━━━━━━━━━━\u001b[0m\u001b[37m\u001b[0m \u001b[1m6s\u001b[0m 1ms/step - loss: 23.1884 - val_loss: 23.2462\n",
      "Epoch 32/100\n",
      "\u001b[1m4179/4179\u001b[0m \u001b[32m━━━━━━━━━━━━━━━━━━━━\u001b[0m\u001b[37m\u001b[0m \u001b[1m8s\u001b[0m 2ms/step - loss: 22.9519 - val_loss: 23.0412\n",
      "Epoch 33/100\n",
      "\u001b[1m4179/4179\u001b[0m \u001b[32m━━━━━━━━━━━━━━━━━━━━\u001b[0m\u001b[37m\u001b[0m \u001b[1m7s\u001b[0m 2ms/step - loss: 23.0240 - val_loss: 23.0288\n",
      "Epoch 34/100\n",
      "\u001b[1m4179/4179\u001b[0m \u001b[32m━━━━━━━━━━━━━━━━━━━━\u001b[0m\u001b[37m\u001b[0m \u001b[1m11s\u001b[0m 3ms/step - loss: 22.8809 - val_loss: 23.1928\n",
      "Epoch 35/100\n",
      "\u001b[1m4179/4179\u001b[0m \u001b[32m━━━━━━━━━━━━━━━━━━━━\u001b[0m\u001b[37m\u001b[0m \u001b[1m6s\u001b[0m 2ms/step - loss: 23.1240 - val_loss: 23.1965\n",
      "Epoch 36/100\n",
      "\u001b[1m4179/4179\u001b[0m \u001b[32m━━━━━━━━━━━━━━━━━━━━\u001b[0m\u001b[37m\u001b[0m \u001b[1m6s\u001b[0m 1ms/step - loss: 22.8607 - val_loss: 23.1398\n",
      "Epoch 37/100\n",
      "\u001b[1m4179/4179\u001b[0m \u001b[32m━━━━━━━━━━━━━━━━━━━━\u001b[0m\u001b[37m\u001b[0m \u001b[1m8s\u001b[0m 2ms/step - loss: 23.1527 - val_loss: 23.3377\n",
      "Epoch 38/100\n",
      "\u001b[1m4179/4179\u001b[0m \u001b[32m━━━━━━━━━━━━━━━━━━━━\u001b[0m\u001b[37m\u001b[0m \u001b[1m7s\u001b[0m 2ms/step - loss: 23.0213 - val_loss: 23.0201\n",
      "Epoch 39/100\n",
      "\u001b[1m4179/4179\u001b[0m \u001b[32m━━━━━━━━━━━━━━━━━━━━\u001b[0m\u001b[37m\u001b[0m \u001b[1m8s\u001b[0m 2ms/step - loss: 23.0460 - val_loss: 22.9964\n",
      "Epoch 40/100\n",
      "\u001b[1m4179/4179\u001b[0m \u001b[32m━━━━━━━━━━━━━━━━━━━━\u001b[0m\u001b[37m\u001b[0m \u001b[1m7s\u001b[0m 2ms/step - loss: 23.0928 - val_loss: 23.1005\n",
      "Epoch 41/100\n",
      "\u001b[1m4179/4179\u001b[0m \u001b[32m━━━━━━━━━━━━━━━━━━━━\u001b[0m\u001b[37m\u001b[0m \u001b[1m8s\u001b[0m 2ms/step - loss: 23.1964 - val_loss: 23.1143\n",
      "Epoch 42/100\n",
      "\u001b[1m4179/4179\u001b[0m \u001b[32m━━━━━━━━━━━━━━━━━━━━\u001b[0m\u001b[37m\u001b[0m \u001b[1m5s\u001b[0m 1ms/step - loss: 22.9613 - val_loss: 23.2481\n",
      "Epoch 43/100\n",
      "\u001b[1m4179/4179\u001b[0m \u001b[32m━━━━━━━━━━━━━━━━━━━━\u001b[0m\u001b[37m\u001b[0m \u001b[1m16s\u001b[0m 4ms/step - loss: 22.8344 - val_loss: 23.0636\n",
      "Epoch 44/100\n",
      "\u001b[1m4179/4179\u001b[0m \u001b[32m━━━━━━━━━━━━━━━━━━━━\u001b[0m\u001b[37m\u001b[0m \u001b[1m12s\u001b[0m 3ms/step - loss: 22.9428 - val_loss: 23.1576\n",
      "Epoch 45/100\n",
      "\u001b[1m4179/4179\u001b[0m \u001b[32m━━━━━━━━━━━━━━━━━━━━\u001b[0m\u001b[37m\u001b[0m \u001b[1m11s\u001b[0m 3ms/step - loss: 22.8561 - val_loss: 23.3228\n",
      "Epoch 46/100\n",
      "\u001b[1m4179/4179\u001b[0m \u001b[32m━━━━━━━━━━━━━━━━━━━━\u001b[0m\u001b[37m\u001b[0m \u001b[1m10s\u001b[0m 2ms/step - loss: 23.0852 - val_loss: 23.2348\n",
      "Epoch 47/100\n",
      "\u001b[1m4179/4179\u001b[0m \u001b[32m━━━━━━━━━━━━━━━━━━━━\u001b[0m\u001b[37m\u001b[0m \u001b[1m10s\u001b[0m 2ms/step - loss: 23.0758 - val_loss: 23.0444\n",
      "Epoch 48/100\n",
      "\u001b[1m4179/4179\u001b[0m \u001b[32m━━━━━━━━━━━━━━━━━━━━\u001b[0m\u001b[37m\u001b[0m \u001b[1m8s\u001b[0m 2ms/step - loss: 22.9951 - val_loss: 23.0222\n",
      "Epoch 49/100\n",
      "\u001b[1m4179/4179\u001b[0m \u001b[32m━━━━━━━━━━━━━━━━━━━━\u001b[0m\u001b[37m\u001b[0m \u001b[1m8s\u001b[0m 2ms/step - loss: 22.8659 - val_loss: 23.0042\n",
      "Epoch 50/100\n",
      "\u001b[1m4179/4179\u001b[0m \u001b[32m━━━━━━━━━━━━━━━━━━━━\u001b[0m\u001b[37m\u001b[0m \u001b[1m8s\u001b[0m 2ms/step - loss: 23.0433 - val_loss: 23.1492\n",
      "Epoch 51/100\n",
      "\u001b[1m4179/4179\u001b[0m \u001b[32m━━━━━━━━━━━━━━━━━━━━\u001b[0m\u001b[37m\u001b[0m \u001b[1m8s\u001b[0m 2ms/step - loss: 22.9177 - val_loss: 23.0302\n",
      "Epoch 52/100\n",
      "\u001b[1m4179/4179\u001b[0m \u001b[32m━━━━━━━━━━━━━━━━━━━━\u001b[0m\u001b[37m\u001b[0m \u001b[1m8s\u001b[0m 2ms/step - loss: 23.0329 - val_loss: 23.0262\n",
      "Epoch 53/100\n",
      "\u001b[1m4179/4179\u001b[0m \u001b[32m━━━━━━━━━━━━━━━━━━━━\u001b[0m\u001b[37m\u001b[0m \u001b[1m8s\u001b[0m 2ms/step - loss: 23.0061 - val_loss: 23.0063\n",
      "Epoch 54/100\n",
      "\u001b[1m4179/4179\u001b[0m \u001b[32m━━━━━━━━━━━━━━━━━━━━\u001b[0m\u001b[37m\u001b[0m \u001b[1m5s\u001b[0m 1ms/step - loss: 22.9772 - val_loss: 23.0638\n",
      "Epoch 55/100\n",
      "\u001b[1m4179/4179\u001b[0m \u001b[32m━━━━━━━━━━━━━━━━━━━━\u001b[0m\u001b[37m\u001b[0m \u001b[1m8s\u001b[0m 2ms/step - loss: 23.0215 - val_loss: 23.0710\n",
      "Epoch 56/100\n",
      "\u001b[1m4179/4179\u001b[0m \u001b[32m━━━━━━━━━━━━━━━━━━━━\u001b[0m\u001b[37m\u001b[0m \u001b[1m6s\u001b[0m 1ms/step - loss: 22.9509 - val_loss: 23.0442\n",
      "Epoch 57/100\n",
      "\u001b[1m4179/4179\u001b[0m \u001b[32m━━━━━━━━━━━━━━━━━━━━\u001b[0m\u001b[37m\u001b[0m \u001b[1m6s\u001b[0m 1ms/step - loss: 22.7925 - val_loss: 23.1169\n",
      "Epoch 58/100\n",
      "\u001b[1m4179/4179\u001b[0m \u001b[32m━━━━━━━━━━━━━━━━━━━━\u001b[0m\u001b[37m\u001b[0m \u001b[1m7s\u001b[0m 2ms/step - loss: 22.8662 - val_loss: 23.0130\n",
      "Epoch 59/100\n",
      "\u001b[1m4179/4179\u001b[0m \u001b[32m━━━━━━━━━━━━━━━━━━━━\u001b[0m\u001b[37m\u001b[0m \u001b[1m6s\u001b[0m 1ms/step - loss: 22.8716 - val_loss: 23.0405\n",
      "Epoch 60/100\n",
      "\u001b[1m4179/4179\u001b[0m \u001b[32m━━━━━━━━━━━━━━━━━━━━\u001b[0m\u001b[37m\u001b[0m \u001b[1m8s\u001b[0m 2ms/step - loss: 22.9655 - val_loss: 23.0416\n",
      "Epoch 61/100\n",
      "\u001b[1m4179/4179\u001b[0m \u001b[32m━━━━━━━━━━━━━━━━━━━━\u001b[0m\u001b[37m\u001b[0m \u001b[1m5s\u001b[0m 1ms/step - loss: 23.0167 - val_loss: 23.0620\n",
      "Epoch 62/100\n",
      "\u001b[1m4179/4179\u001b[0m \u001b[32m━━━━━━━━━━━━━━━━━━━━\u001b[0m\u001b[37m\u001b[0m \u001b[1m6s\u001b[0m 1ms/step - loss: 22.9410 - val_loss: 23.2671\n",
      "Epoch 63/100\n",
      "\u001b[1m4179/4179\u001b[0m \u001b[32m━━━━━━━━━━━━━━━━━━━━\u001b[0m\u001b[37m\u001b[0m \u001b[1m7s\u001b[0m 2ms/step - loss: 22.9452 - val_loss: 23.1029\n",
      "Epoch 64/100\n",
      "\u001b[1m4179/4179\u001b[0m \u001b[32m━━━━━━━━━━━━━━━━━━━━\u001b[0m\u001b[37m\u001b[0m \u001b[1m4s\u001b[0m 952us/step - loss: 23.2203 - val_loss: 23.1035\n",
      "Epoch 65/100\n",
      "\u001b[1m4179/4179\u001b[0m \u001b[32m━━━━━━━━━━━━━━━━━━━━\u001b[0m\u001b[37m\u001b[0m \u001b[1m6s\u001b[0m 1ms/step - loss: 22.9655 - val_loss: 23.1353\n",
      "Epoch 66/100\n",
      "\u001b[1m4179/4179\u001b[0m \u001b[32m━━━━━━━━━━━━━━━━━━━━\u001b[0m\u001b[37m\u001b[0m \u001b[1m7s\u001b[0m 2ms/step - loss: 22.9914 - val_loss: 23.1690\n",
      "Epoch 67/100\n",
      "\u001b[1m4179/4179\u001b[0m \u001b[32m━━━━━━━━━━━━━━━━━━━━\u001b[0m\u001b[37m\u001b[0m \u001b[1m4s\u001b[0m 972us/step - loss: 22.7471 - val_loss: 23.1353\n",
      "Epoch 68/100\n",
      "\u001b[1m4179/4179\u001b[0m \u001b[32m━━━━━━━━━━━━━━━━━━━━\u001b[0m\u001b[37m\u001b[0m \u001b[1m6s\u001b[0m 2ms/step - loss: 22.9669 - val_loss: 23.0026\n",
      "Epoch 69/100\n",
      "\u001b[1m4179/4179\u001b[0m \u001b[32m━━━━━━━━━━━━━━━━━━━━\u001b[0m\u001b[37m\u001b[0m \u001b[1m6s\u001b[0m 2ms/step - loss: 23.1503 - val_loss: 23.0525\n",
      "Epoch 70/100\n",
      "\u001b[1m4179/4179\u001b[0m \u001b[32m━━━━━━━━━━━━━━━━━━━━\u001b[0m\u001b[37m\u001b[0m \u001b[1m6s\u001b[0m 1ms/step - loss: 22.9335 - val_loss: 23.0596\n",
      "Epoch 71/100\n",
      "\u001b[1m4179/4179\u001b[0m \u001b[32m━━━━━━━━━━━━━━━━━━━━\u001b[0m\u001b[37m\u001b[0m \u001b[1m8s\u001b[0m 2ms/step - loss: 22.8847 - val_loss: 23.0076\n",
      "Epoch 72/100\n",
      "\u001b[1m4179/4179\u001b[0m \u001b[32m━━━━━━━━━━━━━━━━━━━━\u001b[0m\u001b[37m\u001b[0m \u001b[1m5s\u001b[0m 1ms/step - loss: 22.8240 - val_loss: 23.0147\n",
      "Epoch 73/100\n",
      "\u001b[1m4179/4179\u001b[0m \u001b[32m━━━━━━━━━━━━━━━━━━━━\u001b[0m\u001b[37m\u001b[0m \u001b[1m8s\u001b[0m 2ms/step - loss: 22.8477 - val_loss: 23.0401\n",
      "Epoch 74/100\n",
      "\u001b[1m4179/4179\u001b[0m \u001b[32m━━━━━━━━━━━━━━━━━━━━\u001b[0m\u001b[37m\u001b[0m \u001b[1m7s\u001b[0m 2ms/step - loss: 22.8582 - val_loss: 23.0549\n",
      "Epoch 75/100\n",
      "\u001b[1m4179/4179\u001b[0m \u001b[32m━━━━━━━━━━━━━━━━━━━━\u001b[0m\u001b[37m\u001b[0m \u001b[1m7s\u001b[0m 2ms/step - loss: 22.8846 - val_loss: 23.0806\n",
      "Epoch 76/100\n",
      "\u001b[1m4179/4179\u001b[0m \u001b[32m━━━━━━━━━━━━━━━━━━━━\u001b[0m\u001b[37m\u001b[0m \u001b[1m13s\u001b[0m 3ms/step - loss: 22.9731 - val_loss: 23.0017\n",
      "Epoch 77/100\n",
      "\u001b[1m4179/4179\u001b[0m \u001b[32m━━━━━━━━━━━━━━━━━━━━\u001b[0m\u001b[37m\u001b[0m \u001b[1m11s\u001b[0m 3ms/step - loss: 22.7904 - val_loss: 23.0302\n",
      "Epoch 78/100\n",
      "\u001b[1m4179/4179\u001b[0m \u001b[32m━━━━━━━━━━━━━━━━━━━━\u001b[0m\u001b[37m\u001b[0m \u001b[1m9s\u001b[0m 2ms/step - loss: 22.7915 - val_loss: 23.2143\n",
      "Epoch 79/100\n",
      "\u001b[1m4179/4179\u001b[0m \u001b[32m━━━━━━━━━━━━━━━━━━━━\u001b[0m\u001b[37m\u001b[0m \u001b[1m11s\u001b[0m 3ms/step - loss: 23.1311 - val_loss: 23.0355\n",
      "Epoch 80/100\n",
      "\u001b[1m4179/4179\u001b[0m \u001b[32m━━━━━━━━━━━━━━━━━━━━\u001b[0m\u001b[37m\u001b[0m \u001b[1m7s\u001b[0m 2ms/step - loss: 22.7123 - val_loss: 23.0300\n",
      "Epoch 81/100\n",
      "\u001b[1m4179/4179\u001b[0m \u001b[32m━━━━━━━━━━━━━━━━━━━━\u001b[0m\u001b[37m\u001b[0m \u001b[1m7s\u001b[0m 2ms/step - loss: 22.5912 - val_loss: 23.0278\n",
      "Epoch 82/100\n",
      "\u001b[1m4179/4179\u001b[0m \u001b[32m━━━━━━━━━━━━━━━━━━━━\u001b[0m\u001b[37m\u001b[0m \u001b[1m7s\u001b[0m 2ms/step - loss: 23.0241 - val_loss: 23.1412\n",
      "Epoch 83/100\n",
      "\u001b[1m4179/4179\u001b[0m \u001b[32m━━━━━━━━━━━━━━━━━━━━\u001b[0m\u001b[37m\u001b[0m \u001b[1m7s\u001b[0m 2ms/step - loss: 22.9252 - val_loss: 23.1152\n",
      "Epoch 84/100\n",
      "\u001b[1m4179/4179\u001b[0m \u001b[32m━━━━━━━━━━━━━━━━━━━━\u001b[0m\u001b[37m\u001b[0m \u001b[1m7s\u001b[0m 2ms/step - loss: 22.9799 - val_loss: 23.0853\n",
      "Epoch 85/100\n",
      "\u001b[1m4179/4179\u001b[0m \u001b[32m━━━━━━━━━━━━━━━━━━━━\u001b[0m\u001b[37m\u001b[0m \u001b[1m7s\u001b[0m 2ms/step - loss: 22.7346 - val_loss: 23.0112\n",
      "Epoch 86/100\n",
      "\u001b[1m4179/4179\u001b[0m \u001b[32m━━━━━━━━━━━━━━━━━━━━\u001b[0m\u001b[37m\u001b[0m \u001b[1m7s\u001b[0m 2ms/step - loss: 22.7836 - val_loss: 23.0427\n",
      "Epoch 87/100\n",
      "\u001b[1m4179/4179\u001b[0m \u001b[32m━━━━━━━━━━━━━━━━━━━━\u001b[0m\u001b[37m\u001b[0m \u001b[1m7s\u001b[0m 2ms/step - loss: 22.8728 - val_loss: 23.2864\n",
      "Epoch 88/100\n",
      "\u001b[1m4179/4179\u001b[0m \u001b[32m━━━━━━━━━━━━━━━━━━━━\u001b[0m\u001b[37m\u001b[0m \u001b[1m7s\u001b[0m 2ms/step - loss: 22.8302 - val_loss: 23.0753\n",
      "Epoch 89/100\n",
      "\u001b[1m4179/4179\u001b[0m \u001b[32m━━━━━━━━━━━━━━━━━━━━\u001b[0m\u001b[37m\u001b[0m \u001b[1m7s\u001b[0m 2ms/step - loss: 22.8424 - val_loss: 23.0929\n",
      "Epoch 90/100\n",
      "\u001b[1m4179/4179\u001b[0m \u001b[32m━━━━━━━━━━━━━━━━━━━━\u001b[0m\u001b[37m\u001b[0m \u001b[1m8s\u001b[0m 2ms/step - loss: 23.0091 - val_loss: 23.1418\n",
      "Epoch 91/100\n",
      "\u001b[1m4179/4179\u001b[0m \u001b[32m━━━━━━━━━━━━━━━━━━━━\u001b[0m\u001b[37m\u001b[0m \u001b[1m8s\u001b[0m 2ms/step - loss: 22.9030 - val_loss: 23.0344\n",
      "Epoch 92/100\n",
      "\u001b[1m4179/4179\u001b[0m \u001b[32m━━━━━━━━━━━━━━━━━━━━\u001b[0m\u001b[37m\u001b[0m \u001b[1m7s\u001b[0m 2ms/step - loss: 22.9207 - val_loss: 23.0547\n",
      "Epoch 93/100\n",
      "\u001b[1m4179/4179\u001b[0m \u001b[32m━━━━━━━━━━━━━━━━━━━━\u001b[0m\u001b[37m\u001b[0m \u001b[1m7s\u001b[0m 2ms/step - loss: 22.9429 - val_loss: 23.0411\n",
      "Epoch 94/100\n",
      "\u001b[1m4179/4179\u001b[0m \u001b[32m━━━━━━━━━━━━━━━━━━━━\u001b[0m\u001b[37m\u001b[0m \u001b[1m7s\u001b[0m 2ms/step - loss: 23.0600 - val_loss: 23.0786\n",
      "Epoch 95/100\n",
      "\u001b[1m4179/4179\u001b[0m \u001b[32m━━━━━━━━━━━━━━━━━━━━\u001b[0m\u001b[37m\u001b[0m \u001b[1m7s\u001b[0m 2ms/step - loss: 22.9369 - val_loss: 23.0461\n",
      "Epoch 96/100\n",
      "\u001b[1m4179/4179\u001b[0m \u001b[32m━━━━━━━━━━━━━━━━━━━━\u001b[0m\u001b[37m\u001b[0m \u001b[1m7s\u001b[0m 2ms/step - loss: 22.8462 - val_loss: 23.0644\n",
      "Epoch 97/100\n",
      "\u001b[1m4179/4179\u001b[0m \u001b[32m━━━━━━━━━━━━━━━━━━━━\u001b[0m\u001b[37m\u001b[0m \u001b[1m4s\u001b[0m 958us/step - loss: 22.9643 - val_loss: 23.0861\n",
      "Epoch 98/100\n",
      "\u001b[1m4179/4179\u001b[0m \u001b[32m━━━━━━━━━━━━━━━━━━━━\u001b[0m\u001b[37m\u001b[0m \u001b[1m6s\u001b[0m 1ms/step - loss: 22.9584 - val_loss: 23.1046\n",
      "Epoch 99/100\n",
      "\u001b[1m4179/4179\u001b[0m \u001b[32m━━━━━━━━━━━━━━━━━━━━\u001b[0m\u001b[37m\u001b[0m \u001b[1m7s\u001b[0m 2ms/step - loss: 22.9957 - val_loss: 23.0343\n",
      "Epoch 100/100\n",
      "\u001b[1m4179/4179\u001b[0m \u001b[32m━━━━━━━━━━━━━━━━━━━━\u001b[0m\u001b[37m\u001b[0m \u001b[1m4s\u001b[0m 1ms/step - loss: 22.6511 - val_loss: 23.0276\n"
     ]
    },
    {
     "data": {
      "text/plain": [
       "<keras.src.callbacks.history.History at 0x24315689550>"
      ]
     },
     "execution_count": 147,
     "metadata": {},
     "output_type": "execute_result"
    }
   ],
   "source": [
    "dnn_model.fit(\n",
    "    train_features[feature], train_target,\n",
    "    validation_split=0.2,\n",
    "    verbose=1, epochs=100)"
   ]
  },
  {
   "cell_type": "code",
   "execution_count": 148,
   "id": "cf994027-f14c-40e9-858a-5d3c19f2233c",
   "metadata": {},
   "outputs": [
    {
     "name": "stdout",
     "output_type": "stream",
     "text": [
      "\u001b[1m1306/1306\u001b[0m \u001b[32m━━━━━━━━━━━━━━━━━━━━\u001b[0m\u001b[37m\u001b[0m \u001b[1m1s\u001b[0m 803us/step - loss: 22.5159\n"
     ]
    },
    {
     "data": {
      "text/plain": [
       "22.481935501098633"
      ]
     },
     "execution_count": 148,
     "metadata": {},
     "output_type": "execute_result"
    }
   ],
   "source": [
    "dnn_model.evaluate(test_features[feature], test_target, verbose=1)"
   ]
  },
  {
   "cell_type": "code",
   "execution_count": 149,
   "id": "9e8ab632-dd6f-4eab-bf98-18d03dd85ee6",
   "metadata": {},
   "outputs": [
    {
     "name": "stdout",
     "output_type": "stream",
     "text": [
      "\u001b[1m7/7\u001b[0m \u001b[32m━━━━━━━━━━━━━━━━━━━━\u001b[0m\u001b[37m\u001b[0m \u001b[1m0s\u001b[0m 13ms/step\n"
     ]
    },
    {
     "ename": "NameError",
     "evalue": "name 'target' is not defined",
     "output_type": "error",
     "traceback": [
      "\u001b[1;31m---------------------------------------------------------------------------\u001b[0m",
      "\u001b[1;31mNameError\u001b[0m                                 Traceback (most recent call last)",
      "Cell \u001b[1;32mIn[149], line 5\u001b[0m\n\u001b[0;32m      2\u001b[0m x \u001b[38;5;241m=\u001b[39m tf\u001b[38;5;241m.\u001b[39mlinspace(range_min, range_max, \u001b[38;5;241m200\u001b[39m)\n\u001b[0;32m      3\u001b[0m y \u001b[38;5;241m=\u001b[39m dnn_model\u001b[38;5;241m.\u001b[39mpredict(x)\n\u001b[1;32m----> 5\u001b[0m plot(feature, x,y)\n",
      "Cell \u001b[1;32mIn[141], line 7\u001b[0m, in \u001b[0;36mplot\u001b[1;34m(feature, x, y)\u001b[0m\n\u001b[0;32m      5\u001b[0m     plt\u001b[38;5;241m.\u001b[39mplot(x, y, color\u001b[38;5;241m=\u001b[39m\u001b[38;5;124m'\u001b[39m\u001b[38;5;124mk\u001b[39m\u001b[38;5;124m'\u001b[39m, label\u001b[38;5;241m=\u001b[39m\u001b[38;5;124m'\u001b[39m\u001b[38;5;124mPredictions\u001b[39m\u001b[38;5;124m'\u001b[39m)\n\u001b[0;32m      6\u001b[0m plt\u001b[38;5;241m.\u001b[39mxlabel(feature)\n\u001b[1;32m----> 7\u001b[0m plt\u001b[38;5;241m.\u001b[39mylabel(target)\n\u001b[0;32m      8\u001b[0m plt\u001b[38;5;241m.\u001b[39mlegend()\n",
      "\u001b[1;31mNameError\u001b[0m: name 'target' is not defined"
     ]
    },
    {
     "data": {
      "image/png": "[encoded data removed]",
      "text/plain": [
       "<Figure size 1000x800 with 1 Axes>"
      ]
     },
     "metadata": {},
     "output_type": "display_data"
    }
   ],
   "source": [
    "# predict and plot\n",
    "x = tf.linspace(range_min, range_max, 200)\n",
    "y = dnn_model.predict(x)\n",
    "\n",
    "plot(feature, x,y)"
   ]
  },
  {
   "cell_type": "code",
   "execution_count": null,
   "id": "30e595d5-da7f-4b4f-8d49-49f1c1c64fe1",
   "metadata": {},
   "outputs": [],
   "source": []
  }
 ],
 "metadata": {
  "kernelspec": {
   "display_name": "Python 3 (ipykernel)",
   "language": "python",
   "name": "python3"
  },
  "language_info": {
   "codemirror_mode": {
    "name": "ipython",
    "version": 3
   },
   "file_extension": ".py",
   "mimetype": "text/x-python",
   "name": "python",
   "nbconvert_exporter": "python",
   "pygments_lexer": "ipython3",
   "version": "3.11.4"
  }
 },
 "nbformat": 4,
 "nbformat_minor": 5
}
